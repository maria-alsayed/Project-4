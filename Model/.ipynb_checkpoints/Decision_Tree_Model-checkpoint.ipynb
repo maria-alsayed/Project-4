{
 "cells": [
  {
   "cell_type": "code",
   "execution_count": 1,
   "id": "13ef4b43",
   "metadata": {},
   "outputs": [],
   "source": [
    "import pandas as pd\n",
    "import numpy as np\n",
    "from sklearn.model_selection import train_test_split\n",
    "from sklearn.preprocessing import LabelEncoder\n",
    "from sklearn.tree import DecisionTreeClassifier \n",
    "from sklearn.metrics import accuracy_score, classification_report, confusion_matrix\n"
   ]
  },
  {
   "cell_type": "code",
   "execution_count": 2,
   "id": "e1bba8e0",
   "metadata": {},
   "outputs": [
    {
     "name": "stdout",
     "output_type": "stream",
     "text": [
      "   EmpID   StartDate ExitDate         DOB                    Title  \\\n",
      "0   3427  2019-09-20      NaN  1969-10-07  Production Technician I   \n",
      "1   3428  2023-02-11      NaN  1965-08-30  Production Technician I   \n",
      "2   3429  2018-12-10      NaN  1991-10-06       Area Sales Manager   \n",
      "3   3430  2021-06-21      NaN  1998-04-04       Area Sales Manager   \n",
      "4   3431  2019-06-29      NaN  1969-08-29       Area Sales Manager   \n",
      "\n",
      "  BusinessUnit EmployeeType PayZone EmployeeClassificationType  \\\n",
      "0         CCDR     Contract  Zone C                  Temporary   \n",
      "1           EW     Contract  Zone A                  Part-Time   \n",
      "2           PL    Full-Time  Zone B                  Part-Time   \n",
      "3         CCDR     Contract  Zone A                  Full-Time   \n",
      "4          TNS     Contract  Zone A                  Temporary   \n",
      "\n",
      "      DepartmentType              Division State JobFunctionDescription  \\\n",
      "0  Production         Finance & Accounting    MA             Accounting   \n",
      "1  Production                       Aerial    MA                  Labor   \n",
      "2              Sales         General - Sga    MA              Assistant   \n",
      "3              Sales  Finance & Accounting    ND                  Clerk   \n",
      "4              Sales         General - Con    FL                Laborer   \n",
      "\n",
      "  GenderCode  RaceDesc MaritalDesc Performance Score  Current Employee Rating  \n",
      "0     Female     White     Widowed       Fully Meets                        4  \n",
      "1       Male  Hispanic     Widowed       Fully Meets                        3  \n",
      "2       Male  Hispanic     Widowed       Fully Meets                        4  \n",
      "3       Male     Other      Single       Fully Meets                        2  \n",
      "4     Female     Other     Married       Fully Meets                        3  \n",
      "<class 'pandas.core.frame.DataFrame'>\n",
      "RangeIndex: 3000 entries, 0 to 2999\n",
      "Data columns (total 18 columns):\n",
      " #   Column                      Non-Null Count  Dtype \n",
      "---  ------                      --------------  ----- \n",
      " 0   EmpID                       3000 non-null   int64 \n",
      " 1   StartDate                   3000 non-null   object\n",
      " 2   ExitDate                    1533 non-null   object\n",
      " 3   DOB                         3000 non-null   object\n",
      " 4   Title                       3000 non-null   object\n",
      " 5   BusinessUnit                3000 non-null   object\n",
      " 6   EmployeeType                3000 non-null   object\n",
      " 7   PayZone                     3000 non-null   object\n",
      " 8   EmployeeClassificationType  3000 non-null   object\n",
      " 9   DepartmentType              3000 non-null   object\n",
      " 10  Division                    3000 non-null   object\n",
      " 11  State                       3000 non-null   object\n",
      " 12  JobFunctionDescription      3000 non-null   object\n",
      " 13  GenderCode                  3000 non-null   object\n",
      " 14  RaceDesc                    3000 non-null   object\n",
      " 15  MaritalDesc                 3000 non-null   object\n",
      " 16  Performance Score           3000 non-null   object\n",
      " 17  Current Employee Rating     3000 non-null   int64 \n",
      "dtypes: int64(2), object(16)\n",
      "memory usage: 422.0+ KB\n",
      "None\n"
     ]
    }
   ],
   "source": [
    "# Load the cleaned data\n",
    "data = pd.read_csv('HRDataset.csv')\n",
    "\n",
    "# Explore the dataset\n",
    "print(data.head())\n",
    "print(data.info())"
   ]
  },
  {
   "cell_type": "code",
   "execution_count": 3,
   "id": "d561ca99",
   "metadata": {},
   "outputs": [],
   "source": [
    "# Create a binary target variable for turnover prediction\n",
    "time_frame = pd.to_datetime('2023-08-06')\n",
    "data['Turnover'] = (pd.to_datetime(data['ExitDate']) <= time_frame).astype(int)\n",
    "\n",
    "# Drop the 'ExitDate' column as it's no longer needed\n",
    "data.drop('ExitDate', axis=1, inplace=True)\n"
   ]
  },
  {
   "cell_type": "code",
   "execution_count": 4,
   "id": "e2f77d6a",
   "metadata": {},
   "outputs": [],
   "source": [
    "# Handle date columns\n",
    "data['StartDate'] = pd.to_datetime(data['StartDate'])\n",
    "data['DOB'] = pd.to_datetime(data['DOB'])"
   ]
  },
  {
   "cell_type": "code",
   "execution_count": 5,
   "id": "d50847fb",
   "metadata": {},
   "outputs": [],
   "source": [
    "# Calculate employee age\n",
    "data['Age'] = (time_frame - data['DOB']).dt.days // 365\n",
    "\n",
    "# Drop the original datetime columns\n",
    "data.drop(['StartDate', 'DOB'], axis=1, inplace=True)"
   ]
  },
  {
   "cell_type": "code",
   "execution_count": 6,
   "id": "0b2e5c1d",
   "metadata": {},
   "outputs": [],
   "source": [
    "# # Convert categorical columns to numerical using label encoding\n",
    "# label_encoder = LabelEncoder()\n",
    "# categorical_columns = ['Title', 'BusinessUnit', 'EmployeeType', 'PayZone', 'EmployeeClassificationType', 'DepartmentType', 'Division', 'State', 'JobFunctionDescription', 'GenderCode', 'RaceDesc', 'MaritalDesc', 'Performance Score']\n",
    "\n",
    "# for column in categorical_columns:\n",
    "#     data[column] = label_encoder.fit_transform(data[column])"
   ]
  },
  {
   "cell_type": "code",
   "execution_count": 7,
   "id": "6fbfb659",
   "metadata": {},
   "outputs": [],
   "source": [
    "# Split the data into features (X) and the binary target variable (y)\n",
    "X = data.drop(['EmpID', 'Turnover'], axis=1)\n",
    "y = data['Turnover']"
   ]
  },
  {
   "cell_type": "code",
   "execution_count": 8,
   "id": "957ec27a",
   "metadata": {},
   "outputs": [
    {
     "data": {
      "text/html": [
       "<div>\n",
       "<style scoped>\n",
       "    .dataframe tbody tr th:only-of-type {\n",
       "        vertical-align: middle;\n",
       "    }\n",
       "\n",
       "    .dataframe tbody tr th {\n",
       "        vertical-align: top;\n",
       "    }\n",
       "\n",
       "    .dataframe thead th {\n",
       "        text-align: right;\n",
       "    }\n",
       "</style>\n",
       "<table border=\"1\" class=\"dataframe\">\n",
       "  <thead>\n",
       "    <tr style=\"text-align: right;\">\n",
       "      <th></th>\n",
       "      <th>Title</th>\n",
       "      <th>BusinessUnit</th>\n",
       "      <th>EmployeeType</th>\n",
       "      <th>PayZone</th>\n",
       "      <th>EmployeeClassificationType</th>\n",
       "      <th>DepartmentType</th>\n",
       "      <th>Division</th>\n",
       "      <th>State</th>\n",
       "      <th>JobFunctionDescription</th>\n",
       "      <th>GenderCode</th>\n",
       "      <th>RaceDesc</th>\n",
       "      <th>MaritalDesc</th>\n",
       "      <th>Performance Score</th>\n",
       "      <th>Current Employee Rating</th>\n",
       "      <th>Age</th>\n",
       "    </tr>\n",
       "  </thead>\n",
       "  <tbody>\n",
       "    <tr>\n",
       "      <th>0</th>\n",
       "      <td>Production Technician I</td>\n",
       "      <td>CCDR</td>\n",
       "      <td>Contract</td>\n",
       "      <td>Zone C</td>\n",
       "      <td>Temporary</td>\n",
       "      <td>Production</td>\n",
       "      <td>Finance &amp; Accounting</td>\n",
       "      <td>MA</td>\n",
       "      <td>Accounting</td>\n",
       "      <td>Female</td>\n",
       "      <td>White</td>\n",
       "      <td>Widowed</td>\n",
       "      <td>Fully Meets</td>\n",
       "      <td>4</td>\n",
       "      <td>53</td>\n",
       "    </tr>\n",
       "    <tr>\n",
       "      <th>1</th>\n",
       "      <td>Production Technician I</td>\n",
       "      <td>EW</td>\n",
       "      <td>Contract</td>\n",
       "      <td>Zone A</td>\n",
       "      <td>Part-Time</td>\n",
       "      <td>Production</td>\n",
       "      <td>Aerial</td>\n",
       "      <td>MA</td>\n",
       "      <td>Labor</td>\n",
       "      <td>Male</td>\n",
       "      <td>Hispanic</td>\n",
       "      <td>Widowed</td>\n",
       "      <td>Fully Meets</td>\n",
       "      <td>3</td>\n",
       "      <td>57</td>\n",
       "    </tr>\n",
       "    <tr>\n",
       "      <th>2</th>\n",
       "      <td>Area Sales Manager</td>\n",
       "      <td>PL</td>\n",
       "      <td>Full-Time</td>\n",
       "      <td>Zone B</td>\n",
       "      <td>Part-Time</td>\n",
       "      <td>Sales</td>\n",
       "      <td>General - Sga</td>\n",
       "      <td>MA</td>\n",
       "      <td>Assistant</td>\n",
       "      <td>Male</td>\n",
       "      <td>Hispanic</td>\n",
       "      <td>Widowed</td>\n",
       "      <td>Fully Meets</td>\n",
       "      <td>4</td>\n",
       "      <td>31</td>\n",
       "    </tr>\n",
       "    <tr>\n",
       "      <th>3</th>\n",
       "      <td>Area Sales Manager</td>\n",
       "      <td>CCDR</td>\n",
       "      <td>Contract</td>\n",
       "      <td>Zone A</td>\n",
       "      <td>Full-Time</td>\n",
       "      <td>Sales</td>\n",
       "      <td>Finance &amp; Accounting</td>\n",
       "      <td>ND</td>\n",
       "      <td>Clerk</td>\n",
       "      <td>Male</td>\n",
       "      <td>Other</td>\n",
       "      <td>Single</td>\n",
       "      <td>Fully Meets</td>\n",
       "      <td>2</td>\n",
       "      <td>25</td>\n",
       "    </tr>\n",
       "    <tr>\n",
       "      <th>4</th>\n",
       "      <td>Area Sales Manager</td>\n",
       "      <td>TNS</td>\n",
       "      <td>Contract</td>\n",
       "      <td>Zone A</td>\n",
       "      <td>Temporary</td>\n",
       "      <td>Sales</td>\n",
       "      <td>General - Con</td>\n",
       "      <td>FL</td>\n",
       "      <td>Laborer</td>\n",
       "      <td>Female</td>\n",
       "      <td>Other</td>\n",
       "      <td>Married</td>\n",
       "      <td>Fully Meets</td>\n",
       "      <td>3</td>\n",
       "      <td>53</td>\n",
       "    </tr>\n",
       "  </tbody>\n",
       "</table>\n",
       "</div>"
      ],
      "text/plain": [
       "                     Title BusinessUnit EmployeeType PayZone  \\\n",
       "0  Production Technician I         CCDR     Contract  Zone C   \n",
       "1  Production Technician I           EW     Contract  Zone A   \n",
       "2       Area Sales Manager           PL    Full-Time  Zone B   \n",
       "3       Area Sales Manager         CCDR     Contract  Zone A   \n",
       "4       Area Sales Manager          TNS     Contract  Zone A   \n",
       "\n",
       "  EmployeeClassificationType     DepartmentType              Division State  \\\n",
       "0                  Temporary  Production         Finance & Accounting    MA   \n",
       "1                  Part-Time  Production                       Aerial    MA   \n",
       "2                  Part-Time              Sales         General - Sga    MA   \n",
       "3                  Full-Time              Sales  Finance & Accounting    ND   \n",
       "4                  Temporary              Sales         General - Con    FL   \n",
       "\n",
       "  JobFunctionDescription GenderCode  RaceDesc MaritalDesc Performance Score  \\\n",
       "0             Accounting     Female     White     Widowed       Fully Meets   \n",
       "1                  Labor       Male  Hispanic     Widowed       Fully Meets   \n",
       "2              Assistant       Male  Hispanic     Widowed       Fully Meets   \n",
       "3                  Clerk       Male     Other      Single       Fully Meets   \n",
       "4                Laborer     Female     Other     Married       Fully Meets   \n",
       "\n",
       "   Current Employee Rating  Age  \n",
       "0                        4   53  \n",
       "1                        3   57  \n",
       "2                        4   31  \n",
       "3                        2   25  \n",
       "4                        3   53  "
      ]
     },
     "execution_count": 8,
     "metadata": {},
     "output_type": "execute_result"
    }
   ],
   "source": [
    "X.head()"
   ]
  },
  {
   "cell_type": "code",
   "execution_count": 9,
   "id": "edc7cf4f",
   "metadata": {
    "scrolled": true
   },
   "outputs": [
    {
     "data": {
      "text/plain": [
       "0    0\n",
       "1    0\n",
       "2    0\n",
       "3    0\n",
       "4    0\n",
       "Name: Turnover, dtype: int64"
      ]
     },
     "execution_count": 9,
     "metadata": {},
     "output_type": "execute_result"
    }
   ],
   "source": [
    "y.head()"
   ]
  },
  {
   "cell_type": "code",
   "execution_count": 10,
   "id": "50fe6caf",
   "metadata": {},
   "outputs": [],
   "source": [
    "X = pd.get_dummies(X)"
   ]
  },
  {
   "cell_type": "code",
   "execution_count": 11,
   "id": "a221b9f9",
   "metadata": {},
   "outputs": [
    {
     "data": {
      "text/plain": [
       "Index(['Current Employee Rating', 'Age', 'Title_Accountant I',\n",
       "       'Title_Administrative Assistant', 'Title_Area Sales Manager',\n",
       "       'Title_BI Developer', 'Title_BI Director', 'Title_CIO',\n",
       "       'Title_Data Analyst', 'Title_Data Analyst ',\n",
       "       ...\n",
       "       'RaceDesc_Other', 'RaceDesc_White', 'MaritalDesc_Divorced',\n",
       "       'MaritalDesc_Married', 'MaritalDesc_Single', 'MaritalDesc_Widowed',\n",
       "       'Performance Score_Exceeds', 'Performance Score_Fully Meets',\n",
       "       'Performance Score_Needs Improvement', 'Performance Score_PIP'],\n",
       "      dtype='object', length=210)"
      ]
     },
     "execution_count": 11,
     "metadata": {},
     "output_type": "execute_result"
    }
   ],
   "source": [
    "X.columns"
   ]
  },
  {
   "cell_type": "code",
   "execution_count": 12,
   "id": "addf1aa0",
   "metadata": {},
   "outputs": [],
   "source": [
    "# Split the data into training and testing sets (80% train, 20% test)\n",
    "X_train, X_test, y_train, y_test = train_test_split(X, y, test_size=0.2)"
   ]
  },
  {
   "cell_type": "code",
   "execution_count": 17,
   "id": "e02e3f4c",
   "metadata": {},
   "outputs": [
    {
     "name": "stdout",
     "output_type": "stream",
     "text": [
      "Accuracy: 0.48\n",
      "              precision    recall  f1-score   support\n",
      "\n",
      "           0       0.48      0.44      0.46       304\n",
      "           1       0.47      0.52      0.49       296\n",
      "\n",
      "    accuracy                           0.48       600\n",
      "   macro avg       0.48      0.48      0.48       600\n",
      "weighted avg       0.48      0.48      0.48       600\n",
      "\n",
      "Confusion Matrix:\n",
      "[[134 170]\n",
      " [143 153]]\n"
     ]
    }
   ],
   "source": [
    "# Create and train a Decision Tree Classifier\n",
    "dt_classifier = DecisionTreeClassifier()  # Create a DecisionTreeClassifier\n",
    "dt_classifier.fit(X_train, y_train)  # Train the classifier\n",
    "\n",
    "# Make predictions on the test set\n",
    "y_pred = dt_classifier.predict(X_test)\n",
    "\n",
    "# Evaluate the model\n",
    "accuracy = accuracy_score(y_test, y_pred)\n",
    "print(f\"Accuracy: {accuracy:.2f}\")\n",
    "\n",
    "# Print classification report and confusion matrix\n",
    "print(classification_report(y_test, y_pred))\n",
    "confusion = confusion_matrix(y_test, y_pred)\n",
    "print(\"Confusion Matrix:\")\n",
    "print(confusion)"
   ]
  },
  {
   "cell_type": "code",
   "execution_count": null,
   "id": "954a2079",
   "metadata": {},
   "outputs": [],
   "source": []
  }
 ],
 "metadata": {
  "kernelspec": {
   "display_name": "Python 3 (ipykernel)",
   "language": "python",
   "name": "python3"
  },
  "language_info": {
   "codemirror_mode": {
    "name": "ipython",
    "version": 3
   },
   "file_extension": ".py",
   "mimetype": "text/x-python",
   "name": "python",
   "nbconvert_exporter": "python",
   "pygments_lexer": "ipython3",
   "version": "3.10.9"
  }
 },
 "nbformat": 4,
 "nbformat_minor": 5
}
