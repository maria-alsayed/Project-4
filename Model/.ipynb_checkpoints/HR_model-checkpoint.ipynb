{
 "cells": [
  {
   "cell_type": "code",
   "execution_count": 1,
   "id": "b90ae2bd",
   "metadata": {},
   "outputs": [],
   "source": [
    "# Imports\n",
    "import pandas as pd\n",
    "import numpy as np\n",
    "from sklearn.model_selection import train_test_split\n",
    "from sklearn.preprocessing import LabelEncoder\n",
    "from sklearn.ensemble import RandomForestClassifier\n",
    "from sklearn.metrics import accuracy_score, classification_report, confusion_matrix"
   ]
  },
  {
   "cell_type": "code",
   "execution_count": 2,
   "id": "ad130232",
   "metadata": {
    "scrolled": false
   },
   "outputs": [
    {
     "name": "stdout",
     "output_type": "stream",
     "text": [
      "   EmpID   StartDate ExitDate Total Employment Time         DOB  \\\n",
      "0   3427  2019-09-20      NaN                Active  1969-10-07   \n",
      "1   3428  2023-02-11      NaN                Active  1965-08-30   \n",
      "2   3429  2018-12-10      NaN                Active  1991-10-06   \n",
      "3   3430  2021-06-21      NaN                Active  1998-04-04   \n",
      "4   3431  2019-06-29      NaN                Active  1969-08-29   \n",
      "\n",
      "                     Title       Supervisor BusinessUnit EmployeeStatus  \\\n",
      "0  Production Technician I     Peter Oneill         CCDR         Active   \n",
      "1  Production Technician I  Renee Mccormick           EW         Active   \n",
      "2       Area Sales Manager   Crystal Walker           PL         Active   \n",
      "3       Area Sales Manager   Rebekah Wright         CCDR         Active   \n",
      "4       Area Sales Manager        Jason Kim          TNS         Active   \n",
      "\n",
      "  EmployeeType  ... TerminationType     DepartmentType              Division  \\\n",
      "0     Contract  ...          Active  Production         Finance & Accounting   \n",
      "1     Contract  ...          Active  Production                       Aerial   \n",
      "2    Full-Time  ...          Active              Sales         General - Sga   \n",
      "3     Contract  ...          Active              Sales  Finance & Accounting   \n",
      "4     Contract  ...          Active              Sales         General - Con   \n",
      "\n",
      "  State JobFunctionDescription GenderCode  RaceDesc MaritalDesc  \\\n",
      "0    MA             Accounting     Female     White     Widowed   \n",
      "1    MA                  Labor       Male  Hispanic     Widowed   \n",
      "2    MA              Assistant       Male  Hispanic     Widowed   \n",
      "3    ND                  Clerk       Male     Other      Single   \n",
      "4    FL                Laborer     Female     Other     Married   \n",
      "\n",
      "  Performance Score Current Employee Rating  \n",
      "0       Fully Meets                       4  \n",
      "1       Fully Meets                       3  \n",
      "2       Fully Meets                       4  \n",
      "3       Fully Meets                       2  \n",
      "4       Fully Meets                       3  \n",
      "\n",
      "[5 rows x 22 columns]\n",
      "<class 'pandas.core.frame.DataFrame'>\n",
      "RangeIndex: 3000 entries, 0 to 2999\n",
      "Data columns (total 22 columns):\n",
      " #   Column                      Non-Null Count  Dtype \n",
      "---  ------                      --------------  ----- \n",
      " 0   EmpID                       3000 non-null   int64 \n",
      " 1   StartDate                   3000 non-null   object\n",
      " 2   ExitDate                    1533 non-null   object\n",
      " 3   Total Employment Time       3000 non-null   object\n",
      " 4   DOB                         3000 non-null   object\n",
      " 5   Title                       3000 non-null   object\n",
      " 6   Supervisor                  3000 non-null   object\n",
      " 7   BusinessUnit                3000 non-null   object\n",
      " 8   EmployeeStatus              3000 non-null   object\n",
      " 9   EmployeeType                3000 non-null   object\n",
      " 10  PayZone                     3000 non-null   object\n",
      " 11  EmployeeClassificationType  3000 non-null   object\n",
      " 12  TerminationType             3000 non-null   object\n",
      " 13  DepartmentType              3000 non-null   object\n",
      " 14  Division                    3000 non-null   object\n",
      " 15  State                       3000 non-null   object\n",
      " 16  JobFunctionDescription      3000 non-null   object\n",
      " 17  GenderCode                  3000 non-null   object\n",
      " 18  RaceDesc                    3000 non-null   object\n",
      " 19  MaritalDesc                 3000 non-null   object\n",
      " 20  Performance Score           3000 non-null   object\n",
      " 21  Current Employee Rating     3000 non-null   int64 \n",
      "dtypes: int64(2), object(20)\n",
      "memory usage: 515.8+ KB\n",
      "None\n"
     ]
    }
   ],
   "source": [
    "# Load the cleaned data\n",
    "data = pd.read_csv('HRDataset.csv')\n",
    "\n",
    "# Explore the dataset\n",
    "print(data.head())\n",
    "print(data.info())"
   ]
  },
  {
   "cell_type": "code",
   "execution_count": 3,
   "id": "5bc84497",
   "metadata": {},
   "outputs": [],
   "source": [
    "# Create a binary target variable for turnover prediction\n",
    "time_frame = pd.to_datetime('2023-01-01')\n",
    "data['Turnover'] = (pd.to_datetime(data['ExitDate']) <= time_frame).astype(int)\n",
    "\n",
    "# Drop the 'ExitDate' column as it's no longer needed\n",
    "data.drop('ExitDate', axis=1, inplace=True)\n"
   ]
  },
  {
   "cell_type": "code",
   "execution_count": 4,
   "id": "0926f284",
   "metadata": {},
   "outputs": [],
   "source": [
    "# Handle date columns\n",
    "data['StartDate'] = pd.to_datetime(data['StartDate'])\n",
    "data['DOB'] = pd.to_datetime(data['DOB'])"
   ]
  },
  {
   "cell_type": "code",
   "execution_count": 5,
   "id": "002cfed1",
   "metadata": {},
   "outputs": [],
   "source": [
    "# Calculate employee age\n",
    "data['Age'] = (time_frame - data['DOB']).dt.days // 365\n",
    "\n",
    "# Drop the original datetime columns\n",
    "data.drop(['StartDate', 'DOB'], axis=1, inplace=True)"
   ]
  },
  {
   "cell_type": "code",
   "execution_count": 6,
   "id": "c3d123c6",
   "metadata": {},
   "outputs": [],
   "source": [
    "# Convert categorical columns to numerical using label encoding\n",
    "label_encoder = LabelEncoder()\n",
    "categorical_columns = ['Total Employment Time', 'Title', 'Supervisor', 'BusinessUnit', 'EmployeeStatus', 'EmployeeType', 'PayZone', 'EmployeeClassificationType', 'TerminationType', 'DepartmentType', 'Division', 'State', 'JobFunctionDescription', 'GenderCode', 'RaceDesc', 'MaritalDesc', 'Performance Score']\n",
    "\n",
    "for column in categorical_columns:\n",
    "    data[column] = label_encoder.fit_transform(data[column])\n"
   ]
  },
  {
   "cell_type": "code",
   "execution_count": 7,
   "id": "b2d555a0",
   "metadata": {},
   "outputs": [],
   "source": [
    "# Split the data into features (X) and the binary target variable (y)\n",
    "X = data.drop(['EmpID', 'Turnover'], axis=1)\n",
    "y = data['Turnover']\n"
   ]
  },
  {
   "cell_type": "code",
   "execution_count": 8,
   "id": "ea611d91",
   "metadata": {},
   "outputs": [],
   "source": [
    "# Split the data into training and testing sets (80% train, 20% test)\n",
    "X_train, X_test, y_train, y_test = train_test_split(X, y, test_size=0.2, random_state=42)\n"
   ]
  },
  {
   "cell_type": "code",
   "execution_count": 9,
   "id": "2a0f3b44",
   "metadata": {},
   "outputs": [
    {
     "data": {
      "text/plain": [
       "RandomForestClassifier(random_state=42)"
      ]
     },
     "execution_count": 9,
     "metadata": {},
     "output_type": "execute_result"
    }
   ],
   "source": [
    "# Create and train the random forest classifier\n",
    "rf_classifier = RandomForestClassifier(n_estimators=100, random_state=42)\n",
    "rf_classifier.fit(X_train, y_train)\n"
   ]
  },
  {
   "cell_type": "code",
   "execution_count": 10,
   "id": "cbd51f32",
   "metadata": {},
   "outputs": [],
   "source": [
    "# Make predictions on the test set\n",
    "y_pred = rf_classifier.predict(X_test)"
   ]
  },
  {
   "cell_type": "code",
   "execution_count": 11,
   "id": "06c17063",
   "metadata": {},
   "outputs": [
    {
     "name": "stdout",
     "output_type": "stream",
     "text": [
      "Accuracy: 0.75\n"
     ]
    }
   ],
   "source": [
    "# Evaluate the model\n",
    "accuracy = accuracy_score(y_test, y_pred)\n",
    "print(f\"Accuracy: {accuracy:.2f}\")"
   ]
  },
  {
   "cell_type": "code",
   "execution_count": 12,
   "id": "33e02d9e",
   "metadata": {},
   "outputs": [
    {
     "name": "stdout",
     "output_type": "stream",
     "text": [
      "              precision    recall  f1-score   support\n",
      "\n",
      "           0       0.88      0.74      0.80       404\n",
      "           1       0.59      0.79      0.67       196\n",
      "\n",
      "    accuracy                           0.75       600\n",
      "   macro avg       0.73      0.76      0.74       600\n",
      "weighted avg       0.78      0.75      0.76       600\n",
      "\n",
      "Confusion Matrix:\n",
      "[[297 107]\n",
      " [ 42 154]]\n"
     ]
    }
   ],
   "source": [
    "# Print classification report and confusion matrix\n",
    "print(classification_report(y_test, y_pred))\n",
    "confusion = confusion_matrix(y_test, y_pred)\n",
    "print(\"Confusion Matrix:\")\n",
    "print(confusion)"
   ]
  },
  {
   "cell_type": "code",
   "execution_count": 13,
   "id": "5df3a418",
   "metadata": {},
   "outputs": [
    {
     "data": {
      "text/html": [
       "<div>\n",
       "<style scoped>\n",
       "    .dataframe tbody tr th:only-of-type {\n",
       "        vertical-align: middle;\n",
       "    }\n",
       "\n",
       "    .dataframe tbody tr th {\n",
       "        vertical-align: top;\n",
       "    }\n",
       "\n",
       "    .dataframe thead th {\n",
       "        text-align: right;\n",
       "    }\n",
       "</style>\n",
       "<table border=\"1\" class=\"dataframe\">\n",
       "  <thead>\n",
       "    <tr style=\"text-align: right;\">\n",
       "      <th></th>\n",
       "      <th>EmpID</th>\n",
       "      <th>Total Employment Time</th>\n",
       "      <th>Title</th>\n",
       "      <th>Supervisor</th>\n",
       "      <th>BusinessUnit</th>\n",
       "      <th>EmployeeStatus</th>\n",
       "      <th>EmployeeType</th>\n",
       "      <th>PayZone</th>\n",
       "      <th>EmployeeClassificationType</th>\n",
       "      <th>TerminationType</th>\n",
       "      <th>...</th>\n",
       "      <th>Division</th>\n",
       "      <th>State</th>\n",
       "      <th>JobFunctionDescription</th>\n",
       "      <th>GenderCode</th>\n",
       "      <th>RaceDesc</th>\n",
       "      <th>MaritalDesc</th>\n",
       "      <th>Performance Score</th>\n",
       "      <th>Current Employee Rating</th>\n",
       "      <th>Turnover</th>\n",
       "      <th>Age</th>\n",
       "    </tr>\n",
       "  </thead>\n",
       "  <tbody>\n",
       "    <tr>\n",
       "      <th>0</th>\n",
       "      <td>3427</td>\n",
       "      <td>853</td>\n",
       "      <td>22</td>\n",
       "      <td>2274</td>\n",
       "      <td>1</td>\n",
       "      <td>0</td>\n",
       "      <td>0</td>\n",
       "      <td>2</td>\n",
       "      <td>2</td>\n",
       "      <td>0</td>\n",
       "      <td>...</td>\n",
       "      <td>8</td>\n",
       "      <td>10</td>\n",
       "      <td>1</td>\n",
       "      <td>0</td>\n",
       "      <td>4</td>\n",
       "      <td>3</td>\n",
       "      <td>1</td>\n",
       "      <td>4</td>\n",
       "      <td>0</td>\n",
       "      <td>53</td>\n",
       "    </tr>\n",
       "    <tr>\n",
       "      <th>1</th>\n",
       "      <td>3428</td>\n",
       "      <td>853</td>\n",
       "      <td>22</td>\n",
       "      <td>2338</td>\n",
       "      <td>2</td>\n",
       "      <td>0</td>\n",
       "      <td>0</td>\n",
       "      <td>0</td>\n",
       "      <td>1</td>\n",
       "      <td>0</td>\n",
       "      <td>...</td>\n",
       "      <td>0</td>\n",
       "      <td>10</td>\n",
       "      <td>46</td>\n",
       "      <td>1</td>\n",
       "      <td>2</td>\n",
       "      <td>3</td>\n",
       "      <td>1</td>\n",
       "      <td>3</td>\n",
       "      <td>0</td>\n",
       "      <td>57</td>\n",
       "    </tr>\n",
       "    <tr>\n",
       "      <th>2</th>\n",
       "      <td>3429</td>\n",
       "      <td>853</td>\n",
       "      <td>2</td>\n",
       "      <td>638</td>\n",
       "      <td>5</td>\n",
       "      <td>0</td>\n",
       "      <td>1</td>\n",
       "      <td>1</td>\n",
       "      <td>1</td>\n",
       "      <td>0</td>\n",
       "      <td>...</td>\n",
       "      <td>11</td>\n",
       "      <td>10</td>\n",
       "      <td>7</td>\n",
       "      <td>1</td>\n",
       "      <td>2</td>\n",
       "      <td>3</td>\n",
       "      <td>1</td>\n",
       "      <td>4</td>\n",
       "      <td>0</td>\n",
       "      <td>31</td>\n",
       "    </tr>\n",
       "    <tr>\n",
       "      <th>3</th>\n",
       "      <td>3430</td>\n",
       "      <td>853</td>\n",
       "      <td>2</td>\n",
       "      <td>2325</td>\n",
       "      <td>1</td>\n",
       "      <td>0</td>\n",
       "      <td>0</td>\n",
       "      <td>0</td>\n",
       "      <td>0</td>\n",
       "      <td>0</td>\n",
       "      <td>...</td>\n",
       "      <td>8</td>\n",
       "      <td>14</td>\n",
       "      <td>18</td>\n",
       "      <td>1</td>\n",
       "      <td>3</td>\n",
       "      <td>2</td>\n",
       "      <td>1</td>\n",
       "      <td>2</td>\n",
       "      <td>0</td>\n",
       "      <td>24</td>\n",
       "    </tr>\n",
       "    <tr>\n",
       "      <th>4</th>\n",
       "      <td>3431</td>\n",
       "      <td>853</td>\n",
       "      <td>2</td>\n",
       "      <td>1212</td>\n",
       "      <td>8</td>\n",
       "      <td>0</td>\n",
       "      <td>0</td>\n",
       "      <td>0</td>\n",
       "      <td>2</td>\n",
       "      <td>0</td>\n",
       "      <td>...</td>\n",
       "      <td>9</td>\n",
       "      <td>5</td>\n",
       "      <td>47</td>\n",
       "      <td>0</td>\n",
       "      <td>3</td>\n",
       "      <td>1</td>\n",
       "      <td>1</td>\n",
       "      <td>3</td>\n",
       "      <td>0</td>\n",
       "      <td>53</td>\n",
       "    </tr>\n",
       "  </tbody>\n",
       "</table>\n",
       "<p>5 rows × 21 columns</p>\n",
       "</div>"
      ],
      "text/plain": [
       "   EmpID  Total Employment Time  Title  Supervisor  BusinessUnit  \\\n",
       "0   3427                    853     22        2274             1   \n",
       "1   3428                    853     22        2338             2   \n",
       "2   3429                    853      2         638             5   \n",
       "3   3430                    853      2        2325             1   \n",
       "4   3431                    853      2        1212             8   \n",
       "\n",
       "   EmployeeStatus  EmployeeType  PayZone  EmployeeClassificationType  \\\n",
       "0               0             0        2                           2   \n",
       "1               0             0        0                           1   \n",
       "2               0             1        1                           1   \n",
       "3               0             0        0                           0   \n",
       "4               0             0        0                           2   \n",
       "\n",
       "   TerminationType  ...  Division  State  JobFunctionDescription  GenderCode  \\\n",
       "0                0  ...         8     10                       1           0   \n",
       "1                0  ...         0     10                      46           1   \n",
       "2                0  ...        11     10                       7           1   \n",
       "3                0  ...         8     14                      18           1   \n",
       "4                0  ...         9      5                      47           0   \n",
       "\n",
       "   RaceDesc  MaritalDesc  Performance Score  Current Employee Rating  \\\n",
       "0         4            3                  1                        4   \n",
       "1         2            3                  1                        3   \n",
       "2         2            3                  1                        4   \n",
       "3         3            2                  1                        2   \n",
       "4         3            1                  1                        3   \n",
       "\n",
       "   Turnover  Age  \n",
       "0         0   53  \n",
       "1         0   57  \n",
       "2         0   31  \n",
       "3         0   24  \n",
       "4         0   53  \n",
       "\n",
       "[5 rows x 21 columns]"
      ]
     },
     "execution_count": 13,
     "metadata": {},
     "output_type": "execute_result"
    }
   ],
   "source": [
    "data.head()"
   ]
  },
  {
   "cell_type": "code",
   "execution_count": 14,
   "id": "e41d28fc",
   "metadata": {},
   "outputs": [],
   "source": [
    "# Save the Cleaned DataFrame to a file named \"HRDataset.csv\"\n",
    "data.to_csv('model_data.csv', index=False)"
   ]
  },
  {
   "cell_type": "code",
   "execution_count": null,
   "id": "a258dd16",
   "metadata": {},
   "outputs": [],
   "source": []
  },
  {
   "cell_type": "code",
   "execution_count": null,
   "id": "88c67204",
   "metadata": {},
   "outputs": [],
   "source": []
  }
 ],
 "metadata": {
  "kernelspec": {
   "display_name": "Python 3 (ipykernel)",
   "language": "python",
   "name": "python3"
  },
  "language_info": {
   "codemirror_mode": {
    "name": "ipython",
    "version": 3
   },
   "file_extension": ".py",
   "mimetype": "text/x-python",
   "name": "python",
   "nbconvert_exporter": "python",
   "pygments_lexer": "ipython3",
   "version": "3.10.9"
  }
 },
 "nbformat": 4,
 "nbformat_minor": 5
}
