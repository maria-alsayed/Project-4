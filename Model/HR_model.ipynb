{
 "cells": [
  {
   "cell_type": "code",
   "execution_count": 20,
   "id": "b90ae2bd",
   "metadata": {},
   "outputs": [],
   "source": [
    "# Imports\n",
    "import pandas as pd\n",
    "import numpy as np\n",
    "from sklearn.model_selection import train_test_split\n",
    "from sklearn.preprocessing import LabelEncoder\n",
    "from sklearn.ensemble import RandomForestClassifier\n",
    "from sklearn.metrics import accuracy_score, classification_report, confusion_matrix\n",
    "import matplotlib.pyplot as plt\n",
    "import plotly.offline as py\n",
    "import plotly.graph_objs as go"
   ]
  },
  {
   "cell_type": "code",
   "execution_count": 21,
   "id": "ad130232",
   "metadata": {
    "scrolled": false
   },
   "outputs": [
    {
     "name": "stdout",
     "output_type": "stream",
     "text": [
      "   EmpID   StartDate ExitDate         DOB                    Title  \\\n",
      "0   3427  2019-09-20      NaN  1969-10-07  Production Technician I   \n",
      "1   3428  2023-02-11      NaN  1965-08-30  Production Technician I   \n",
      "2   3429  2018-12-10      NaN  1991-10-06       Area Sales Manager   \n",
      "3   3430  2021-06-21      NaN  1998-04-04       Area Sales Manager   \n",
      "4   3431  2019-06-29      NaN  1969-08-29       Area Sales Manager   \n",
      "\n",
      "  BusinessUnit EmployeeType PayZone EmployeeClassificationType  \\\n",
      "0         CCDR     Contract  Zone C                  Temporary   \n",
      "1           EW     Contract  Zone A                  Part-Time   \n",
      "2           PL    Full-Time  Zone B                  Part-Time   \n",
      "3         CCDR     Contract  Zone A                  Full-Time   \n",
      "4          TNS     Contract  Zone A                  Temporary   \n",
      "\n",
      "      DepartmentType              Division State JobFunctionDescription  \\\n",
      "0  Production         Finance & Accounting    MA             Accounting   \n",
      "1  Production                       Aerial    MA                  Labor   \n",
      "2              Sales         General - Sga    MA              Assistant   \n",
      "3              Sales  Finance & Accounting    ND                  Clerk   \n",
      "4              Sales         General - Con    FL                Laborer   \n",
      "\n",
      "  GenderCode  RaceDesc MaritalDesc Performance Score  Current Employee Rating  \n",
      "0     Female     White     Widowed       Fully Meets                        4  \n",
      "1       Male  Hispanic     Widowed       Fully Meets                        3  \n",
      "2       Male  Hispanic     Widowed       Fully Meets                        4  \n",
      "3       Male     Other      Single       Fully Meets                        2  \n",
      "4     Female     Other     Married       Fully Meets                        3  \n",
      "<class 'pandas.core.frame.DataFrame'>\n",
      "RangeIndex: 3000 entries, 0 to 2999\n",
      "Data columns (total 18 columns):\n",
      " #   Column                      Non-Null Count  Dtype \n",
      "---  ------                      --------------  ----- \n",
      " 0   EmpID                       3000 non-null   int64 \n",
      " 1   StartDate                   3000 non-null   object\n",
      " 2   ExitDate                    1533 non-null   object\n",
      " 3   DOB                         3000 non-null   object\n",
      " 4   Title                       3000 non-null   object\n",
      " 5   BusinessUnit                3000 non-null   object\n",
      " 6   EmployeeType                3000 non-null   object\n",
      " 7   PayZone                     3000 non-null   object\n",
      " 8   EmployeeClassificationType  3000 non-null   object\n",
      " 9   DepartmentType              3000 non-null   object\n",
      " 10  Division                    3000 non-null   object\n",
      " 11  State                       3000 non-null   object\n",
      " 12  JobFunctionDescription      3000 non-null   object\n",
      " 13  GenderCode                  3000 non-null   object\n",
      " 14  RaceDesc                    3000 non-null   object\n",
      " 15  MaritalDesc                 3000 non-null   object\n",
      " 16  Performance Score           3000 non-null   object\n",
      " 17  Current Employee Rating     3000 non-null   int64 \n",
      "dtypes: int64(2), object(16)\n",
      "memory usage: 422.0+ KB\n",
      "None\n"
     ]
    }
   ],
   "source": [
    "# Load the cleaned data\n",
    "data = pd.read_csv('HRDataset.csv')\n",
    "\n",
    "# Explore the dataset\n",
    "print(data.head())\n",
    "print(data.info())"
   ]
  },
  {
   "cell_type": "code",
   "execution_count": 22,
   "id": "5bc84497",
   "metadata": {},
   "outputs": [],
   "source": [
    "# Create a binary target variable for turnover prediction\n",
    "time_frame = pd.to_datetime('2023-08-06')\n",
    "data['Turnover'] = (pd.to_datetime(data['ExitDate']) <= time_frame).astype(int)\n",
    "\n",
    "# Drop the 'ExitDate' column as it's no longer needed\n",
    "data.drop('ExitDate', axis=1, inplace=True)\n"
   ]
  },
  {
   "cell_type": "code",
   "execution_count": 23,
   "id": "0926f284",
   "metadata": {},
   "outputs": [],
   "source": [
    "# Handle date columns\n",
    "data['StartDate'] = pd.to_datetime(data['StartDate'])\n",
    "data['DOB'] = pd.to_datetime(data['DOB'])"
   ]
  },
  {
   "cell_type": "code",
   "execution_count": 24,
   "id": "002cfed1",
   "metadata": {},
   "outputs": [],
   "source": [
    "# Calculate employee age\n",
    "data['Age'] = (time_frame - data['DOB']).dt.days // 365\n",
    "\n",
    "# Drop the original datetime columns\n",
    "data.drop(['StartDate', 'DOB'], axis=1, inplace=True)"
   ]
  },
  {
   "cell_type": "code",
   "execution_count": 6,
   "id": "c3d123c6",
   "metadata": {},
   "outputs": [],
   "source": [
    "# # Convert categorical columns to numerical using label encoding\n",
    "# label_encoder = LabelEncoder()\n",
    "# categorical_columns = ['Title', 'BusinessUnit', 'EmployeeType', 'PayZone', 'EmployeeClassificationType', 'DepartmentType', 'Division', 'State', 'JobFunctionDescription', 'GenderCode', 'RaceDesc', 'MaritalDesc', 'Performance Score']\n",
    "\n",
    "# for column in categorical_columns:\n",
    "#     data[column] = label_encoder.fit_transform(data[column])\n"
   ]
  },
  {
   "cell_type": "code",
   "execution_count": 25,
   "id": "b2d555a0",
   "metadata": {},
   "outputs": [],
   "source": [
    "# Split the data into features (X) and the binary target variable (y)\n",
    "X = data.drop(['EmpID', 'Turnover'], axis=1)\n",
    "y = data['Turnover']\n"
   ]
  },
  {
   "cell_type": "code",
   "execution_count": 26,
   "id": "95a6d6db",
   "metadata": {},
   "outputs": [
    {
     "data": {
      "text/html": [
       "<div>\n",
       "<style scoped>\n",
       "    .dataframe tbody tr th:only-of-type {\n",
       "        vertical-align: middle;\n",
       "    }\n",
       "\n",
       "    .dataframe tbody tr th {\n",
       "        vertical-align: top;\n",
       "    }\n",
       "\n",
       "    .dataframe thead th {\n",
       "        text-align: right;\n",
       "    }\n",
       "</style>\n",
       "<table border=\"1\" class=\"dataframe\">\n",
       "  <thead>\n",
       "    <tr style=\"text-align: right;\">\n",
       "      <th></th>\n",
       "      <th>Title</th>\n",
       "      <th>BusinessUnit</th>\n",
       "      <th>EmployeeType</th>\n",
       "      <th>PayZone</th>\n",
       "      <th>EmployeeClassificationType</th>\n",
       "      <th>DepartmentType</th>\n",
       "      <th>Division</th>\n",
       "      <th>State</th>\n",
       "      <th>JobFunctionDescription</th>\n",
       "      <th>GenderCode</th>\n",
       "      <th>RaceDesc</th>\n",
       "      <th>MaritalDesc</th>\n",
       "      <th>Performance Score</th>\n",
       "      <th>Current Employee Rating</th>\n",
       "      <th>Age</th>\n",
       "    </tr>\n",
       "  </thead>\n",
       "  <tbody>\n",
       "    <tr>\n",
       "      <th>0</th>\n",
       "      <td>Production Technician I</td>\n",
       "      <td>CCDR</td>\n",
       "      <td>Contract</td>\n",
       "      <td>Zone C</td>\n",
       "      <td>Temporary</td>\n",
       "      <td>Production</td>\n",
       "      <td>Finance &amp; Accounting</td>\n",
       "      <td>MA</td>\n",
       "      <td>Accounting</td>\n",
       "      <td>Female</td>\n",
       "      <td>White</td>\n",
       "      <td>Widowed</td>\n",
       "      <td>Fully Meets</td>\n",
       "      <td>4</td>\n",
       "      <td>53</td>\n",
       "    </tr>\n",
       "    <tr>\n",
       "      <th>1</th>\n",
       "      <td>Production Technician I</td>\n",
       "      <td>EW</td>\n",
       "      <td>Contract</td>\n",
       "      <td>Zone A</td>\n",
       "      <td>Part-Time</td>\n",
       "      <td>Production</td>\n",
       "      <td>Aerial</td>\n",
       "      <td>MA</td>\n",
       "      <td>Labor</td>\n",
       "      <td>Male</td>\n",
       "      <td>Hispanic</td>\n",
       "      <td>Widowed</td>\n",
       "      <td>Fully Meets</td>\n",
       "      <td>3</td>\n",
       "      <td>57</td>\n",
       "    </tr>\n",
       "    <tr>\n",
       "      <th>2</th>\n",
       "      <td>Area Sales Manager</td>\n",
       "      <td>PL</td>\n",
       "      <td>Full-Time</td>\n",
       "      <td>Zone B</td>\n",
       "      <td>Part-Time</td>\n",
       "      <td>Sales</td>\n",
       "      <td>General - Sga</td>\n",
       "      <td>MA</td>\n",
       "      <td>Assistant</td>\n",
       "      <td>Male</td>\n",
       "      <td>Hispanic</td>\n",
       "      <td>Widowed</td>\n",
       "      <td>Fully Meets</td>\n",
       "      <td>4</td>\n",
       "      <td>31</td>\n",
       "    </tr>\n",
       "    <tr>\n",
       "      <th>3</th>\n",
       "      <td>Area Sales Manager</td>\n",
       "      <td>CCDR</td>\n",
       "      <td>Contract</td>\n",
       "      <td>Zone A</td>\n",
       "      <td>Full-Time</td>\n",
       "      <td>Sales</td>\n",
       "      <td>Finance &amp; Accounting</td>\n",
       "      <td>ND</td>\n",
       "      <td>Clerk</td>\n",
       "      <td>Male</td>\n",
       "      <td>Other</td>\n",
       "      <td>Single</td>\n",
       "      <td>Fully Meets</td>\n",
       "      <td>2</td>\n",
       "      <td>25</td>\n",
       "    </tr>\n",
       "    <tr>\n",
       "      <th>4</th>\n",
       "      <td>Area Sales Manager</td>\n",
       "      <td>TNS</td>\n",
       "      <td>Contract</td>\n",
       "      <td>Zone A</td>\n",
       "      <td>Temporary</td>\n",
       "      <td>Sales</td>\n",
       "      <td>General - Con</td>\n",
       "      <td>FL</td>\n",
       "      <td>Laborer</td>\n",
       "      <td>Female</td>\n",
       "      <td>Other</td>\n",
       "      <td>Married</td>\n",
       "      <td>Fully Meets</td>\n",
       "      <td>3</td>\n",
       "      <td>53</td>\n",
       "    </tr>\n",
       "  </tbody>\n",
       "</table>\n",
       "</div>"
      ],
      "text/plain": [
       "                     Title BusinessUnit EmployeeType PayZone  \\\n",
       "0  Production Technician I         CCDR     Contract  Zone C   \n",
       "1  Production Technician I           EW     Contract  Zone A   \n",
       "2       Area Sales Manager           PL    Full-Time  Zone B   \n",
       "3       Area Sales Manager         CCDR     Contract  Zone A   \n",
       "4       Area Sales Manager          TNS     Contract  Zone A   \n",
       "\n",
       "  EmployeeClassificationType     DepartmentType              Division State  \\\n",
       "0                  Temporary  Production         Finance & Accounting    MA   \n",
       "1                  Part-Time  Production                       Aerial    MA   \n",
       "2                  Part-Time              Sales         General - Sga    MA   \n",
       "3                  Full-Time              Sales  Finance & Accounting    ND   \n",
       "4                  Temporary              Sales         General - Con    FL   \n",
       "\n",
       "  JobFunctionDescription GenderCode  RaceDesc MaritalDesc Performance Score  \\\n",
       "0             Accounting     Female     White     Widowed       Fully Meets   \n",
       "1                  Labor       Male  Hispanic     Widowed       Fully Meets   \n",
       "2              Assistant       Male  Hispanic     Widowed       Fully Meets   \n",
       "3                  Clerk       Male     Other      Single       Fully Meets   \n",
       "4                Laborer     Female     Other     Married       Fully Meets   \n",
       "\n",
       "   Current Employee Rating  Age  \n",
       "0                        4   53  \n",
       "1                        3   57  \n",
       "2                        4   31  \n",
       "3                        2   25  \n",
       "4                        3   53  "
      ]
     },
     "execution_count": 26,
     "metadata": {},
     "output_type": "execute_result"
    }
   ],
   "source": [
    "X.head()"
   ]
  },
  {
   "cell_type": "code",
   "execution_count": 27,
   "id": "333dff81",
   "metadata": {
    "scrolled": true
   },
   "outputs": [
    {
     "data": {
      "text/plain": [
       "0       0\n",
       "1       0\n",
       "2       0\n",
       "3       0\n",
       "4       0\n",
       "       ..\n",
       "2995    1\n",
       "2996    0\n",
       "2997    1\n",
       "2998    1\n",
       "2999    0\n",
       "Name: Turnover, Length: 3000, dtype: int64"
      ]
     },
     "execution_count": 27,
     "metadata": {},
     "output_type": "execute_result"
    }
   ],
   "source": [
    "y"
   ]
  },
  {
   "cell_type": "code",
   "execution_count": 28,
   "id": "e9713f54",
   "metadata": {},
   "outputs": [],
   "source": [
    "X = pd.get_dummies(X)"
   ]
  },
  {
   "cell_type": "code",
   "execution_count": 29,
   "id": "bc7c97e3",
   "metadata": {},
   "outputs": [
    {
     "data": {
      "text/plain": [
       "Index(['Current Employee Rating', 'Age', 'Title_Accountant I',\n",
       "       'Title_Administrative Assistant', 'Title_Area Sales Manager',\n",
       "       'Title_BI Developer', 'Title_BI Director', 'Title_CIO',\n",
       "       'Title_Data Analyst', 'Title_Data Analyst ',\n",
       "       ...\n",
       "       'RaceDesc_Other', 'RaceDesc_White', 'MaritalDesc_Divorced',\n",
       "       'MaritalDesc_Married', 'MaritalDesc_Single', 'MaritalDesc_Widowed',\n",
       "       'Performance Score_Exceeds', 'Performance Score_Fully Meets',\n",
       "       'Performance Score_Needs Improvement', 'Performance Score_PIP'],\n",
       "      dtype='object', length=210)"
      ]
     },
     "execution_count": 29,
     "metadata": {},
     "output_type": "execute_result"
    }
   ],
   "source": [
    "X.columns"
   ]
  },
  {
   "cell_type": "code",
   "execution_count": 30,
   "id": "ea611d91",
   "metadata": {},
   "outputs": [],
   "source": [
    "# Split the data into training and testing sets (80% train, 20% test)\n",
    "X_train, X_test, y_train, y_test = train_test_split(X, y, test_size=0.2)\n"
   ]
  },
  {
   "cell_type": "code",
   "execution_count": 31,
   "id": "2a0f3b44",
   "metadata": {},
   "outputs": [
    {
     "data": {
      "text/plain": [
       "RandomForestClassifier()"
      ]
     },
     "execution_count": 31,
     "metadata": {},
     "output_type": "execute_result"
    }
   ],
   "source": [
    "# Create and train the random forest classifier\n",
    "rf_classifier = RandomForestClassifier(n_estimators=100)\n",
    "rf_classifier.fit(X_train, y_train)\n"
   ]
  },
  {
   "cell_type": "code",
   "execution_count": 32,
   "id": "23bdbe57",
   "metadata": {},
   "outputs": [
    {
     "data": {
      "text/plain": [
       "Index(['Current Employee Rating', 'Age', 'Title_Accountant I',\n",
       "       'Title_Administrative Assistant', 'Title_Area Sales Manager',\n",
       "       'Title_BI Developer', 'Title_BI Director', 'Title_CIO',\n",
       "       'Title_Data Analyst', 'Title_Data Analyst ',\n",
       "       ...\n",
       "       'RaceDesc_Other', 'RaceDesc_White', 'MaritalDesc_Divorced',\n",
       "       'MaritalDesc_Married', 'MaritalDesc_Single', 'MaritalDesc_Widowed',\n",
       "       'Performance Score_Exceeds', 'Performance Score_Fully Meets',\n",
       "       'Performance Score_Needs Improvement', 'Performance Score_PIP'],\n",
       "      dtype='object', length=210)"
      ]
     },
     "execution_count": 32,
     "metadata": {},
     "output_type": "execute_result"
    }
   ],
   "source": [
    "X_train.columns"
   ]
  },
  {
   "cell_type": "code",
   "execution_count": 33,
   "id": "766dd7b6",
   "metadata": {},
   "outputs": [
    {
     "data": {
      "text/plain": [
       "array([4.08688956e-02, 8.61989808e-02, 1.62592248e-03, 2.01003587e-03,\n",
       "       4.81354356e-03, 2.71588990e-03, 5.88593162e-04, 9.54252877e-04,\n",
       "       3.01356210e-03, 7.03414824e-04, 7.50921775e-04, 1.87021783e-03,\n",
       "       7.02210523e-04, 9.58277797e-04, 2.65666256e-04, 8.73160957e-04,\n",
       "       1.75638645e-03, 7.94275004e-04, 1.25405706e-03, 3.68466603e-03,\n",
       "       2.33326157e-03, 5.98843240e-04, 8.15083219e-04, 6.85908981e-03,\n",
       "       1.42603643e-02, 1.15755946e-02, 1.58246848e-03, 1.97764546e-03,\n",
       "       7.83435217e-04, 3.11781781e-03, 7.79930197e-04, 1.04034459e-03,\n",
       "       7.30083296e-04, 2.47014670e-03, 1.10307312e-02, 1.17306229e-02,\n",
       "       1.08751255e-02, 1.08437524e-02, 1.20967384e-02, 1.10172045e-02,\n",
       "       1.16400812e-02, 1.14421531e-02, 1.09479488e-02, 1.11761488e-02,\n",
       "       1.68460066e-02, 1.67759574e-02, 1.75760440e-02, 1.68428389e-02,\n",
       "       1.55940745e-02, 1.66164827e-02, 1.50321226e-02, 1.64468193e-02,\n",
       "       1.64204197e-02, 3.38538941e-03, 2.19375147e-03, 8.10441644e-03,\n",
       "       9.79934920e-03, 5.72307306e-03, 4.03308206e-03, 7.77423018e-03,\n",
       "       2.83979336e-03, 3.68361050e-03, 2.48093955e-04, 1.04654997e-02,\n",
       "       2.82200182e-03, 1.73973207e-02, 4.48175219e-03, 3.65420345e-03,\n",
       "       1.32361055e-02, 5.03694115e-03, 6.15400213e-03, 1.35203465e-03,\n",
       "       1.72880820e-03, 8.07419771e-03, 1.60456978e-03, 5.26556187e-04,\n",
       "       6.05956688e-04, 3.37089480e-03, 5.37947431e-03, 2.00645243e-03,\n",
       "       2.49589339e-03, 2.18691993e-03, 8.07713080e-03, 3.52627258e-03,\n",
       "       1.19810349e-03, 1.80514207e-03, 6.63284053e-04, 1.55731524e-03,\n",
       "       1.90508604e-03, 0.00000000e+00, 1.57063055e-04, 1.63273219e-03,\n",
       "       1.24888883e-03, 1.83364036e-03, 6.40427478e-03, 1.88180562e-04,\n",
       "       1.00460154e-04, 4.22881908e-04, 1.77854697e-04, 3.40494537e-04,\n",
       "       0.00000000e+00, 8.80794476e-04, 4.07961071e-05, 6.97650989e-04,\n",
       "       1.13744410e-03, 2.27582260e-04, 1.37468581e-03, 2.53762059e-03,\n",
       "       1.01298572e-04, 1.28807735e-04, 4.49432851e-04, 1.08089275e-03,\n",
       "       1.50112491e-04, 1.32649936e-03, 1.66278568e-03, 3.48798800e-03,\n",
       "       3.05794380e-03, 3.39686367e-05, 3.77754731e-04, 1.81929642e-03,\n",
       "       7.49638559e-04, 7.25717458e-05, 9.42521871e-04, 1.52740896e-04,\n",
       "       3.88290554e-04, 2.53569945e-04, 1.98331237e-04, 0.00000000e+00,\n",
       "       0.00000000e+00, 2.40737192e-04, 3.36869974e-03, 1.43363175e-03,\n",
       "       1.67159277e-04, 3.40565776e-04, 6.15274987e-03, 7.21697068e-05,\n",
       "       2.11289353e-04, 3.26432663e-03, 1.74792178e-03, 3.33363700e-03,\n",
       "       3.24641996e-03, 2.91447040e-04, 9.35998797e-03, 3.21637889e-04,\n",
       "       1.47511489e-04, 3.48918203e-04, 4.12609425e-04, 7.83067555e-04,\n",
       "       5.09924436e-04, 2.45404127e-03, 1.04352865e-02, 6.82224578e-05,\n",
       "       0.00000000e+00, 3.52671919e-03, 1.50011432e-04, 2.45400539e-04,\n",
       "       1.52705706e-04, 1.17854050e-03, 6.20271017e-04, 1.43676695e-02,\n",
       "       8.13706052e-03, 2.39852332e-03, 5.54979066e-03, 2.37993673e-03,\n",
       "       1.02668588e-03, 4.18298073e-03, 5.49363963e-04, 1.22218561e-04,\n",
       "       8.32922212e-04, 7.63479023e-05, 1.27703388e-04, 5.47700495e-03,\n",
       "       2.03144951e-04, 6.47613640e-05, 0.00000000e+00, 1.07704470e-03,\n",
       "       8.00902791e-04, 1.10144514e-04, 7.90241943e-05, 1.30472646e-03,\n",
       "       1.44034152e-03, 4.00372826e-03, 6.07036309e-03, 9.62474296e-05,\n",
       "       2.23878875e-05, 1.22434370e-02, 4.78998591e-04, 1.10347869e-03,\n",
       "       3.51060223e-03, 0.00000000e+00, 2.69898455e-03, 3.06668984e-04,\n",
       "       2.54096980e-04, 3.73702641e-04, 5.48905075e-04, 1.55711452e-02,\n",
       "       1.64709326e-02, 1.41255317e-02, 1.47110606e-02, 1.48886338e-02,\n",
       "       1.47595670e-02, 1.49033035e-02, 1.51279966e-02, 1.55820068e-02,\n",
       "       1.58566871e-02, 1.47999579e-02, 1.09605026e-02, 1.34974635e-02,\n",
       "       6.25824749e-03, 4.66894097e-03])"
      ]
     },
     "execution_count": 33,
     "metadata": {},
     "output_type": "execute_result"
    }
   ],
   "source": [
    "rf_classifier.feature_importances_"
   ]
  },
  {
   "cell_type": "code",
   "execution_count": 34,
   "id": "cbd51f32",
   "metadata": {},
   "outputs": [],
   "source": [
    "# Make predictions on the test set\n",
    "y_pred = rf_classifier.predict(X_test)"
   ]
  },
  {
   "cell_type": "code",
   "execution_count": 35,
   "id": "06c17063",
   "metadata": {},
   "outputs": [
    {
     "name": "stdout",
     "output_type": "stream",
     "text": [
      "Accuracy: 0.47\n"
     ]
    }
   ],
   "source": [
    "# Evaluate the model\n",
    "accuracy = accuracy_score(y_test, y_pred)\n",
    "print(f\"Accuracy: {accuracy:.2f}\")"
   ]
  },
  {
   "cell_type": "code",
   "execution_count": 36,
   "id": "33e02d9e",
   "metadata": {},
   "outputs": [
    {
     "name": "stdout",
     "output_type": "stream",
     "text": [
      "              precision    recall  f1-score   support\n",
      "\n",
      "           0       0.47      0.45      0.46       300\n",
      "           1       0.47      0.48      0.48       300\n",
      "\n",
      "    accuracy                           0.47       600\n",
      "   macro avg       0.47      0.47      0.47       600\n",
      "weighted avg       0.47      0.47      0.47       600\n",
      "\n",
      "Confusion Matrix:\n",
      "[[135 165]\n",
      " [155 145]]\n"
     ]
    }
   ],
   "source": [
    "# Print classification report and confusion matrix\n",
    "print(classification_report(y_test, y_pred))\n",
    "confusion = confusion_matrix(y_test, y_pred)\n",
    "print(\"Confusion Matrix:\")\n",
    "print(confusion)"
   ]
  },
  {
   "cell_type": "code",
   "execution_count": 37,
   "id": "5df3a418",
   "metadata": {},
   "outputs": [
    {
     "data": {
      "text/html": [
       "<div>\n",
       "<style scoped>\n",
       "    .dataframe tbody tr th:only-of-type {\n",
       "        vertical-align: middle;\n",
       "    }\n",
       "\n",
       "    .dataframe tbody tr th {\n",
       "        vertical-align: top;\n",
       "    }\n",
       "\n",
       "    .dataframe thead th {\n",
       "        text-align: right;\n",
       "    }\n",
       "</style>\n",
       "<table border=\"1\" class=\"dataframe\">\n",
       "  <thead>\n",
       "    <tr style=\"text-align: right;\">\n",
       "      <th></th>\n",
       "      <th>EmpID</th>\n",
       "      <th>Title</th>\n",
       "      <th>BusinessUnit</th>\n",
       "      <th>EmployeeType</th>\n",
       "      <th>PayZone</th>\n",
       "      <th>EmployeeClassificationType</th>\n",
       "      <th>DepartmentType</th>\n",
       "      <th>Division</th>\n",
       "      <th>State</th>\n",
       "      <th>JobFunctionDescription</th>\n",
       "      <th>GenderCode</th>\n",
       "      <th>RaceDesc</th>\n",
       "      <th>MaritalDesc</th>\n",
       "      <th>Performance Score</th>\n",
       "      <th>Current Employee Rating</th>\n",
       "      <th>Turnover</th>\n",
       "      <th>Age</th>\n",
       "    </tr>\n",
       "  </thead>\n",
       "  <tbody>\n",
       "    <tr>\n",
       "      <th>0</th>\n",
       "      <td>3427</td>\n",
       "      <td>Production Technician I</td>\n",
       "      <td>CCDR</td>\n",
       "      <td>Contract</td>\n",
       "      <td>Zone C</td>\n",
       "      <td>Temporary</td>\n",
       "      <td>Production</td>\n",
       "      <td>Finance &amp; Accounting</td>\n",
       "      <td>MA</td>\n",
       "      <td>Accounting</td>\n",
       "      <td>Female</td>\n",
       "      <td>White</td>\n",
       "      <td>Widowed</td>\n",
       "      <td>Fully Meets</td>\n",
       "      <td>4</td>\n",
       "      <td>0</td>\n",
       "      <td>53</td>\n",
       "    </tr>\n",
       "    <tr>\n",
       "      <th>1</th>\n",
       "      <td>3428</td>\n",
       "      <td>Production Technician I</td>\n",
       "      <td>EW</td>\n",
       "      <td>Contract</td>\n",
       "      <td>Zone A</td>\n",
       "      <td>Part-Time</td>\n",
       "      <td>Production</td>\n",
       "      <td>Aerial</td>\n",
       "      <td>MA</td>\n",
       "      <td>Labor</td>\n",
       "      <td>Male</td>\n",
       "      <td>Hispanic</td>\n",
       "      <td>Widowed</td>\n",
       "      <td>Fully Meets</td>\n",
       "      <td>3</td>\n",
       "      <td>0</td>\n",
       "      <td>57</td>\n",
       "    </tr>\n",
       "    <tr>\n",
       "      <th>2</th>\n",
       "      <td>3429</td>\n",
       "      <td>Area Sales Manager</td>\n",
       "      <td>PL</td>\n",
       "      <td>Full-Time</td>\n",
       "      <td>Zone B</td>\n",
       "      <td>Part-Time</td>\n",
       "      <td>Sales</td>\n",
       "      <td>General - Sga</td>\n",
       "      <td>MA</td>\n",
       "      <td>Assistant</td>\n",
       "      <td>Male</td>\n",
       "      <td>Hispanic</td>\n",
       "      <td>Widowed</td>\n",
       "      <td>Fully Meets</td>\n",
       "      <td>4</td>\n",
       "      <td>0</td>\n",
       "      <td>31</td>\n",
       "    </tr>\n",
       "    <tr>\n",
       "      <th>3</th>\n",
       "      <td>3430</td>\n",
       "      <td>Area Sales Manager</td>\n",
       "      <td>CCDR</td>\n",
       "      <td>Contract</td>\n",
       "      <td>Zone A</td>\n",
       "      <td>Full-Time</td>\n",
       "      <td>Sales</td>\n",
       "      <td>Finance &amp; Accounting</td>\n",
       "      <td>ND</td>\n",
       "      <td>Clerk</td>\n",
       "      <td>Male</td>\n",
       "      <td>Other</td>\n",
       "      <td>Single</td>\n",
       "      <td>Fully Meets</td>\n",
       "      <td>2</td>\n",
       "      <td>0</td>\n",
       "      <td>25</td>\n",
       "    </tr>\n",
       "    <tr>\n",
       "      <th>4</th>\n",
       "      <td>3431</td>\n",
       "      <td>Area Sales Manager</td>\n",
       "      <td>TNS</td>\n",
       "      <td>Contract</td>\n",
       "      <td>Zone A</td>\n",
       "      <td>Temporary</td>\n",
       "      <td>Sales</td>\n",
       "      <td>General - Con</td>\n",
       "      <td>FL</td>\n",
       "      <td>Laborer</td>\n",
       "      <td>Female</td>\n",
       "      <td>Other</td>\n",
       "      <td>Married</td>\n",
       "      <td>Fully Meets</td>\n",
       "      <td>3</td>\n",
       "      <td>0</td>\n",
       "      <td>53</td>\n",
       "    </tr>\n",
       "  </tbody>\n",
       "</table>\n",
       "</div>"
      ],
      "text/plain": [
       "   EmpID                    Title BusinessUnit EmployeeType PayZone  \\\n",
       "0   3427  Production Technician I         CCDR     Contract  Zone C   \n",
       "1   3428  Production Technician I           EW     Contract  Zone A   \n",
       "2   3429       Area Sales Manager           PL    Full-Time  Zone B   \n",
       "3   3430       Area Sales Manager         CCDR     Contract  Zone A   \n",
       "4   3431       Area Sales Manager          TNS     Contract  Zone A   \n",
       "\n",
       "  EmployeeClassificationType     DepartmentType              Division State  \\\n",
       "0                  Temporary  Production         Finance & Accounting    MA   \n",
       "1                  Part-Time  Production                       Aerial    MA   \n",
       "2                  Part-Time              Sales         General - Sga    MA   \n",
       "3                  Full-Time              Sales  Finance & Accounting    ND   \n",
       "4                  Temporary              Sales         General - Con    FL   \n",
       "\n",
       "  JobFunctionDescription GenderCode  RaceDesc MaritalDesc Performance Score  \\\n",
       "0             Accounting     Female     White     Widowed       Fully Meets   \n",
       "1                  Labor       Male  Hispanic     Widowed       Fully Meets   \n",
       "2              Assistant       Male  Hispanic     Widowed       Fully Meets   \n",
       "3                  Clerk       Male     Other      Single       Fully Meets   \n",
       "4                Laborer     Female     Other     Married       Fully Meets   \n",
       "\n",
       "   Current Employee Rating  Turnover  Age  \n",
       "0                        4         0   53  \n",
       "1                        3         0   57  \n",
       "2                        4         0   31  \n",
       "3                        2         0   25  \n",
       "4                        3         0   53  "
      ]
     },
     "execution_count": 37,
     "metadata": {},
     "output_type": "execute_result"
    }
   ],
   "source": [
    "data.head()"
   ]
  },
  {
   "cell_type": "code",
   "execution_count": 38,
   "id": "e41d28fc",
   "metadata": {},
   "outputs": [],
   "source": [
    "# Save the Cleaned DataFrame to a file named \"HRDataset.csv\"\n",
    "#data.to_csv('model_data.csv', index=False)"
   ]
  },
  {
   "cell_type": "code",
   "execution_count": 39,
   "id": "a258dd16",
   "metadata": {},
   "outputs": [
    {
     "data": {
      "application/vnd.plotly.v1+json": {
       "config": {
        "linkText": "Export to plot.ly",
        "plotlyServerURL": "https://plot.ly",
        "showLink": false
       },
       "data": [
        {
         "marker": {
          "color": [
           0.04086889560616341,
           0.08619898083622113,
           0.001625922477729374,
           0.0020100358726942522,
           0.004813543560436063,
           0.0027158898987793383,
           0.0005885931620764056,
           0.0009542528774534934,
           0.0030135621018247123,
           0.0007034148243544274,
           0.0007509217750015848,
           0.0018702178251781712,
           0.0007022105234017578,
           0.0009582777968622407,
           0.00026566625551365555,
           0.0008731609571095021,
           0.001756386447204761,
           0.0007942750038997352,
           0.0012540570591275766,
           0.003684666028898556,
           0.002333261571204521,
           0.0005988432400559731,
           0.0008150832187612028,
           0.006859089814218475,
           0.014260364278249595,
           0.011575594632209902,
           0.0015824684813090714,
           0.001977645464399244,
           0.0007834352166134063,
           0.0031178178092538893,
           0.0007799301972276888,
           0.0010403445891827518,
           0.0007300832956017114,
           0.0024701466983898745,
           0.011030731177296367,
           0.011730622937426247,
           0.010875125534703904,
           0.010843752426238537,
           0.012096738436375924,
           0.011017204497407179,
           0.01164008119975888,
           0.011442153090178632,
           0.010947948753186656,
           0.01117614882368048,
           0.016846006554771416,
           0.01677595741666392,
           0.017576043979631823,
           0.01684283889585938,
           0.015594074450449864,
           0.01661648268179043,
           0.015032122608729673,
           0.01644681932129975,
           0.01642041965914932,
           0.003385389411837392,
           0.002193751466554561,
           0.008104416442887445,
           0.009799349203990941,
           0.005723073058905492,
           0.004033082055266562,
           0.007774230184718999,
           0.002839793358178095,
           0.003683610496077518,
           0.0002480939552339559,
           0.01046549972939195,
           0.0028220018190443334,
           0.017397320668531904,
           0.004481752187472934,
           0.0036542034480263113,
           0.013236105521924413,
           0.005036941148082365,
           0.006154002132041844,
           0.0013520346462349158,
           0.0017288082012139117,
           0.008074197709739156,
           0.001604569777039776,
           0.0005265561873597333,
           0.0006059566883869682,
           0.003370894799973468,
           0.0053794743103939965,
           0.002006452434258698,
           0.002495893392538791,
           0.002186919925313639,
           0.008077130798438685,
           0.0035262725826698395,
           0.001198103493788183,
           0.0018051420672634858,
           0.0006632840525522147,
           0.0015573152409941288,
           0.0019050860411444267,
           0,
           0.000157063054945013,
           0.0016327321879638917,
           0.0012488888258523052,
           0.0018336403579547727,
           0.0064042747780769,
           0.00018818056245030744,
           0.00010046015371626466,
           0.00042288190823691895,
           0.0001778546967962194,
           0.000340494537127442,
           0,
           0.0008807944761293345,
           4.079610710166156e-05,
           0.0006976509885192766,
           0.0011374440966612836,
           0.0002275822602918999,
           0.0013746858101978982,
           0.0025376205874827413,
           0.00010129857188322652,
           0.00012880773453953037,
           0.00044943285066281394,
           0.001080892753621677,
           0.0001501124905010086,
           0.001326499360235634,
           0.0016627856769288072,
           0.0034879880008327267,
           0.0030579437998108604,
           3.3968636710694684e-05,
           0.0003777547311540067,
           0.0018192964170752556,
           0.000749638559319778,
           7.257174580052066e-05,
           0.0009425218714823973,
           0.0001527408956440065,
           0.00038829055426121213,
           0.00025356994499271275,
           0.00019833123672341674,
           0,
           0,
           0.00024073719183885286,
           0.0033686997356606367,
           0.0014336317529800675,
           0.0001671592765326442,
           0.0003405657763030662,
           0.006152749873602219,
           7.21697068317598e-05,
           0.00021128935267884194,
           0.0032643266339369543,
           0.001747921781257031,
           0.0033336370027280955,
           0.003246419956291148,
           0.0002914470398122002,
           0.009359987968023035,
           0.0003216378893817259,
           0.00014751148933248612,
           0.00034891820264208777,
           0.0004126094248976614,
           0.0007830675552398289,
           0.000509924436093517,
           0.0024540412704656873,
           0.01043528652223273,
           6.822245780837663e-05,
           0,
           0.0035267191862938703,
           0.0001500114319985348,
           0.00024540053858263124,
           0.0001527057060139594,
           0.0011785405021267474,
           0.0006202710173606553,
           0.014367669507842972,
           0.008137060519754458,
           0.0023985233222529496,
           0.005549790663517657,
           0.0023799367284071298,
           0.0010266858817106499,
           0.004182980734045039,
           0.000549363962630836,
           0.0001222185609118093,
           0.0008329222120921028,
           7.634790227947174e-05,
           0.0001277033877781972,
           0.00547700494614831,
           0.0002031449509854765,
           6.476136398550456e-05,
           0,
           0.0010770447018651095,
           0.0008009027908264258,
           0.00011014451409867899,
           7.902419434852841e-05,
           0.0013047264565885183,
           0.0014403415211899826,
           0.0040037282631069475,
           0.006070363088115061,
           9.624742963046086e-05,
           2.2387887468465118e-05,
           0.012243436984825797,
           0.0004789985914928987,
           0.0011034786947101915,
           0.0035106022282424556,
           0,
           0.002698984551484111,
           0.0003066689837815606,
           0.00025409697980918847,
           0.00037370264138948466,
           0.000548905074895142,
           0.015571145192397176,
           0.016470932639055063,
           0.014125531689277796,
           0.014711060591665928,
           0.01488863379467205,
           0.014759567012510551,
           0.0149033035414246,
           0.015127996550018553,
           0.015582006769682378,
           0.015856687125338668,
           0.014799957925929218,
           0.010960502639747011,
           0.013497463467361658,
           0.0062582474904614915,
           0.004668940968937957
          ],
          "colorscale": [
           [
            0,
            "rgb(12,51,131)"
           ],
           [
            0.25,
            "rgb(10,136,186)"
           ],
           [
            0.5,
            "rgb(242,211,56)"
           ],
           [
            0.75,
            "rgb(242,143,56)"
           ],
           [
            1,
            "rgb(217,30,30)"
           ]
          ],
          "showscale": true,
          "size": 13,
          "sizemode": "diameter",
          "sizeref": 1
         },
         "mode": "markers",
         "text": [
          "Current Employee Rating",
          "Age",
          "Title_Accountant I",
          "Title_Administrative Assistant",
          "Title_Area Sales Manager",
          "Title_BI Developer",
          "Title_BI Director",
          "Title_CIO",
          "Title_Data Analyst",
          "Title_Data Analyst ",
          "Title_Data Architect",
          "Title_Database Administrator",
          "Title_Director of Operations",
          "Title_Director of Sales",
          "Title_Enterprise Architect",
          "Title_IT Director",
          "Title_IT Manager - DB",
          "Title_IT Manager - Infra",
          "Title_IT Manager - Support",
          "Title_IT Support",
          "Title_Network Engineer",
          "Title_President & CEO",
          "Title_Principal Data Architect",
          "Title_Production Manager",
          "Title_Production Technician I",
          "Title_Production Technician II",
          "Title_Sales Manager",
          "Title_Senior BI Developer",
          "Title_Shared Services Manager",
          "Title_Software Engineer",
          "Title_Software Engineering Manager",
          "Title_Sr. Accountant",
          "Title_Sr. DBA",
          "Title_Sr. Network Engineer",
          "BusinessUnit_BPC",
          "BusinessUnit_CCDR",
          "BusinessUnit_EW",
          "BusinessUnit_MSC",
          "BusinessUnit_NEL",
          "BusinessUnit_PL",
          "BusinessUnit_PYZ",
          "BusinessUnit_SVG",
          "BusinessUnit_TNS",
          "BusinessUnit_WBL",
          "EmployeeType_Contract",
          "EmployeeType_Full-Time",
          "EmployeeType_Part-Time",
          "PayZone_Zone A",
          "PayZone_Zone B",
          "PayZone_Zone C",
          "EmployeeClassificationType_Full-Time",
          "EmployeeClassificationType_Part-Time",
          "EmployeeClassificationType_Temporary",
          "DepartmentType_Admin Offices",
          "DepartmentType_Executive Office",
          "DepartmentType_IT/IS",
          "DepartmentType_Production       ",
          "DepartmentType_Sales",
          "DepartmentType_Software Engineering",
          "Division_Aerial",
          "Division_Billable Consultants",
          "Division_Catv",
          "Division_Corp Operations",
          "Division_Engineers",
          "Division_Executive",
          "Division_Field Operations",
          "Division_Fielders",
          "Division_Finance & Accounting",
          "Division_General - Con",
          "Division_General - Eng",
          "Division_General - Sga",
          "Division_Isp",
          "Division_People Services",
          "Division_Project Management - Con",
          "Division_Project Management - Eng",
          "Division_Safety",
          "Division_Sales & Marketing",
          "Division_Shop (Fleet)",
          "Division_Splicing",
          "Division_Technology / It",
          "Division_Underground",
          "Division_Wireless",
          "Division_Wireline Construction",
          "Division_Yard (Material Handling)",
          "State_AL",
          "State_AZ",
          "State_CA",
          "State_CO",
          "State_CT",
          "State_FL",
          "State_GA",
          "State_ID",
          "State_IN",
          "State_KY",
          "State_MA",
          "State_ME",
          "State_MT",
          "State_NC",
          "State_ND",
          "State_NH",
          "State_NV",
          "State_NY",
          "State_OH",
          "State_OR",
          "State_PA",
          "State_RI",
          "State_TN",
          "State_TX",
          "State_UT",
          "State_VA",
          "State_VT",
          "State_WA",
          "JobFunctionDescription_Accountant",
          "JobFunctionDescription_Accounting",
          "JobFunctionDescription_Administration",
          "JobFunctionDescription_Administrative",
          "JobFunctionDescription_Administrator",
          "JobFunctionDescription_Analyst",
          "JobFunctionDescription_Apprentice",
          "JobFunctionDescription_Assistant",
          "JobFunctionDescription_Associate",
          "JobFunctionDescription_Attendant",
          "JobFunctionDescription_Billing",
          "JobFunctionDescription_Business Development",
          "JobFunctionDescription_Ceo",
          "JobFunctionDescription_Cfo",
          "JobFunctionDescription_Chief Operating Officer",
          "JobFunctionDescription_Cio",
          "JobFunctionDescription_Civil Hand",
          "JobFunctionDescription_Clerical",
          "JobFunctionDescription_Clerk",
          "JobFunctionDescription_Construction Manager",
          "JobFunctionDescription_Contracts",
          "JobFunctionDescription_Controller",
          "JobFunctionDescription_Coordinator",
          "JobFunctionDescription_Cpo",
          "JobFunctionDescription_Crew Leader",
          "JobFunctionDescription_Director",
          "JobFunctionDescription_Drafter",
          "JobFunctionDescription_Driller",
          "JobFunctionDescription_Driver",
          "JobFunctionDescription_Electrician",
          "JobFunctionDescription_Engineer",
          "JobFunctionDescription_Estimator",
          "JobFunctionDescription_Evp",
          "JobFunctionDescription_Executive",
          "JobFunctionDescription_Executive Assistant",
          "JobFunctionDescription_Field Project Manager",
          "JobFunctionDescription_Field Technician",
          "JobFunctionDescription_Flagger",
          "JobFunctionDescription_Foreman",
          "JobFunctionDescription_General Manager",
          "JobFunctionDescription_Generalist",
          "JobFunctionDescription_Groundman",
          "JobFunctionDescription_Helpdesk",
          "JobFunctionDescription_Helper",
          "JobFunctionDescription_Inspector",
          "JobFunctionDescription_Intern",
          "JobFunctionDescription_Labor",
          "JobFunctionDescription_Laborer",
          "JobFunctionDescription_Lineman",
          "JobFunctionDescription_Locator",
          "JobFunctionDescription_Manager",
          "JobFunctionDescription_Mechanic",
          "JobFunctionDescription_Model Assistant",
          "JobFunctionDescription_Operator",
          "JobFunctionDescription_Planner",
          "JobFunctionDescription_Principal",
          "JobFunctionDescription_Program Manager",
          "JobFunctionDescription_Project Controls",
          "JobFunctionDescription_Project Coordinator",
          "JobFunctionDescription_Project Manager",
          "JobFunctionDescription_Purchasing",
          "JobFunctionDescription_Recruiter",
          "JobFunctionDescription_Recruiting",
          "JobFunctionDescription_Runner",
          "JobFunctionDescription_Safety",
          "JobFunctionDescription_Safety Manager",
          "JobFunctionDescription_Services",
          "JobFunctionDescription_Shop",
          "JobFunctionDescription_Specialist",
          "JobFunctionDescription_Splicer",
          "JobFunctionDescription_Supervisor",
          "JobFunctionDescription_Support",
          "JobFunctionDescription_Svp",
          "JobFunctionDescription_Technician",
          "JobFunctionDescription_Tester",
          "JobFunctionDescription_Top Hand",
          "JobFunctionDescription_Tower Hand",
          "JobFunctionDescription_Traffic",
          "JobFunctionDescription_Vp",
          "JobFunctionDescription_Warehouse",
          "JobFunctionDescription_Warehouse Manager",
          "JobFunctionDescription_Warehouse Technician",
          "JobFunctionDescription_Welder",
          "GenderCode_Female",
          "GenderCode_Male",
          "RaceDesc_Asian",
          "RaceDesc_Black",
          "RaceDesc_Hispanic",
          "RaceDesc_Other",
          "RaceDesc_White",
          "MaritalDesc_Divorced",
          "MaritalDesc_Married",
          "MaritalDesc_Single",
          "MaritalDesc_Widowed",
          "Performance Score_Exceeds",
          "Performance Score_Fully Meets",
          "Performance Score_Needs Improvement",
          "Performance Score_PIP"
         ],
         "type": "scatter",
         "x": [
          "Current Employee Rating",
          "Age",
          "Title_Accountant I",
          "Title_Administrative Assistant",
          "Title_Area Sales Manager",
          "Title_BI Developer",
          "Title_BI Director",
          "Title_CIO",
          "Title_Data Analyst",
          "Title_Data Analyst ",
          "Title_Data Architect",
          "Title_Database Administrator",
          "Title_Director of Operations",
          "Title_Director of Sales",
          "Title_Enterprise Architect",
          "Title_IT Director",
          "Title_IT Manager - DB",
          "Title_IT Manager - Infra",
          "Title_IT Manager - Support",
          "Title_IT Support",
          "Title_Network Engineer",
          "Title_President & CEO",
          "Title_Principal Data Architect",
          "Title_Production Manager",
          "Title_Production Technician I",
          "Title_Production Technician II",
          "Title_Sales Manager",
          "Title_Senior BI Developer",
          "Title_Shared Services Manager",
          "Title_Software Engineer",
          "Title_Software Engineering Manager",
          "Title_Sr. Accountant",
          "Title_Sr. DBA",
          "Title_Sr. Network Engineer",
          "BusinessUnit_BPC",
          "BusinessUnit_CCDR",
          "BusinessUnit_EW",
          "BusinessUnit_MSC",
          "BusinessUnit_NEL",
          "BusinessUnit_PL",
          "BusinessUnit_PYZ",
          "BusinessUnit_SVG",
          "BusinessUnit_TNS",
          "BusinessUnit_WBL",
          "EmployeeType_Contract",
          "EmployeeType_Full-Time",
          "EmployeeType_Part-Time",
          "PayZone_Zone A",
          "PayZone_Zone B",
          "PayZone_Zone C",
          "EmployeeClassificationType_Full-Time",
          "EmployeeClassificationType_Part-Time",
          "EmployeeClassificationType_Temporary",
          "DepartmentType_Admin Offices",
          "DepartmentType_Executive Office",
          "DepartmentType_IT/IS",
          "DepartmentType_Production       ",
          "DepartmentType_Sales",
          "DepartmentType_Software Engineering",
          "Division_Aerial",
          "Division_Billable Consultants",
          "Division_Catv",
          "Division_Corp Operations",
          "Division_Engineers",
          "Division_Executive",
          "Division_Field Operations",
          "Division_Fielders",
          "Division_Finance & Accounting",
          "Division_General - Con",
          "Division_General - Eng",
          "Division_General - Sga",
          "Division_Isp",
          "Division_People Services",
          "Division_Project Management - Con",
          "Division_Project Management - Eng",
          "Division_Safety",
          "Division_Sales & Marketing",
          "Division_Shop (Fleet)",
          "Division_Splicing",
          "Division_Technology / It",
          "Division_Underground",
          "Division_Wireless",
          "Division_Wireline Construction",
          "Division_Yard (Material Handling)",
          "State_AL",
          "State_AZ",
          "State_CA",
          "State_CO",
          "State_CT",
          "State_FL",
          "State_GA",
          "State_ID",
          "State_IN",
          "State_KY",
          "State_MA",
          "State_ME",
          "State_MT",
          "State_NC",
          "State_ND",
          "State_NH",
          "State_NV",
          "State_NY",
          "State_OH",
          "State_OR",
          "State_PA",
          "State_RI",
          "State_TN",
          "State_TX",
          "State_UT",
          "State_VA",
          "State_VT",
          "State_WA",
          "JobFunctionDescription_Accountant",
          "JobFunctionDescription_Accounting",
          "JobFunctionDescription_Administration",
          "JobFunctionDescription_Administrative",
          "JobFunctionDescription_Administrator",
          "JobFunctionDescription_Analyst",
          "JobFunctionDescription_Apprentice",
          "JobFunctionDescription_Assistant",
          "JobFunctionDescription_Associate",
          "JobFunctionDescription_Attendant",
          "JobFunctionDescription_Billing",
          "JobFunctionDescription_Business Development",
          "JobFunctionDescription_Ceo",
          "JobFunctionDescription_Cfo",
          "JobFunctionDescription_Chief Operating Officer",
          "JobFunctionDescription_Cio",
          "JobFunctionDescription_Civil Hand",
          "JobFunctionDescription_Clerical",
          "JobFunctionDescription_Clerk",
          "JobFunctionDescription_Construction Manager",
          "JobFunctionDescription_Contracts",
          "JobFunctionDescription_Controller",
          "JobFunctionDescription_Coordinator",
          "JobFunctionDescription_Cpo",
          "JobFunctionDescription_Crew Leader",
          "JobFunctionDescription_Director",
          "JobFunctionDescription_Drafter",
          "JobFunctionDescription_Driller",
          "JobFunctionDescription_Driver",
          "JobFunctionDescription_Electrician",
          "JobFunctionDescription_Engineer",
          "JobFunctionDescription_Estimator",
          "JobFunctionDescription_Evp",
          "JobFunctionDescription_Executive",
          "JobFunctionDescription_Executive Assistant",
          "JobFunctionDescription_Field Project Manager",
          "JobFunctionDescription_Field Technician",
          "JobFunctionDescription_Flagger",
          "JobFunctionDescription_Foreman",
          "JobFunctionDescription_General Manager",
          "JobFunctionDescription_Generalist",
          "JobFunctionDescription_Groundman",
          "JobFunctionDescription_Helpdesk",
          "JobFunctionDescription_Helper",
          "JobFunctionDescription_Inspector",
          "JobFunctionDescription_Intern",
          "JobFunctionDescription_Labor",
          "JobFunctionDescription_Laborer",
          "JobFunctionDescription_Lineman",
          "JobFunctionDescription_Locator",
          "JobFunctionDescription_Manager",
          "JobFunctionDescription_Mechanic",
          "JobFunctionDescription_Model Assistant",
          "JobFunctionDescription_Operator",
          "JobFunctionDescription_Planner",
          "JobFunctionDescription_Principal",
          "JobFunctionDescription_Program Manager",
          "JobFunctionDescription_Project Controls",
          "JobFunctionDescription_Project Coordinator",
          "JobFunctionDescription_Project Manager",
          "JobFunctionDescription_Purchasing",
          "JobFunctionDescription_Recruiter",
          "JobFunctionDescription_Recruiting",
          "JobFunctionDescription_Runner",
          "JobFunctionDescription_Safety",
          "JobFunctionDescription_Safety Manager",
          "JobFunctionDescription_Services",
          "JobFunctionDescription_Shop",
          "JobFunctionDescription_Specialist",
          "JobFunctionDescription_Splicer",
          "JobFunctionDescription_Supervisor",
          "JobFunctionDescription_Support",
          "JobFunctionDescription_Svp",
          "JobFunctionDescription_Technician",
          "JobFunctionDescription_Tester",
          "JobFunctionDescription_Top Hand",
          "JobFunctionDescription_Tower Hand",
          "JobFunctionDescription_Traffic",
          "JobFunctionDescription_Vp",
          "JobFunctionDescription_Warehouse",
          "JobFunctionDescription_Warehouse Manager",
          "JobFunctionDescription_Warehouse Technician",
          "JobFunctionDescription_Welder",
          "GenderCode_Female",
          "GenderCode_Male",
          "RaceDesc_Asian",
          "RaceDesc_Black",
          "RaceDesc_Hispanic",
          "RaceDesc_Other",
          "RaceDesc_White",
          "MaritalDesc_Divorced",
          "MaritalDesc_Married",
          "MaritalDesc_Single",
          "MaritalDesc_Widowed",
          "Performance Score_Exceeds",
          "Performance Score_Fully Meets",
          "Performance Score_Needs Improvement",
          "Performance Score_PIP"
         ],
         "y": [
          0.04086889560616341,
          0.08619898083622113,
          0.001625922477729374,
          0.0020100358726942522,
          0.004813543560436063,
          0.0027158898987793383,
          0.0005885931620764056,
          0.0009542528774534934,
          0.0030135621018247123,
          0.0007034148243544274,
          0.0007509217750015848,
          0.0018702178251781712,
          0.0007022105234017578,
          0.0009582777968622407,
          0.00026566625551365555,
          0.0008731609571095021,
          0.001756386447204761,
          0.0007942750038997352,
          0.0012540570591275766,
          0.003684666028898556,
          0.002333261571204521,
          0.0005988432400559731,
          0.0008150832187612028,
          0.006859089814218475,
          0.014260364278249595,
          0.011575594632209902,
          0.0015824684813090714,
          0.001977645464399244,
          0.0007834352166134063,
          0.0031178178092538893,
          0.0007799301972276888,
          0.0010403445891827518,
          0.0007300832956017114,
          0.0024701466983898745,
          0.011030731177296367,
          0.011730622937426247,
          0.010875125534703904,
          0.010843752426238537,
          0.012096738436375924,
          0.011017204497407179,
          0.01164008119975888,
          0.011442153090178632,
          0.010947948753186656,
          0.01117614882368048,
          0.016846006554771416,
          0.01677595741666392,
          0.017576043979631823,
          0.01684283889585938,
          0.015594074450449864,
          0.01661648268179043,
          0.015032122608729673,
          0.01644681932129975,
          0.01642041965914932,
          0.003385389411837392,
          0.002193751466554561,
          0.008104416442887445,
          0.009799349203990941,
          0.005723073058905492,
          0.004033082055266562,
          0.007774230184718999,
          0.002839793358178095,
          0.003683610496077518,
          0.0002480939552339559,
          0.01046549972939195,
          0.0028220018190443334,
          0.017397320668531904,
          0.004481752187472934,
          0.0036542034480263113,
          0.013236105521924413,
          0.005036941148082365,
          0.006154002132041844,
          0.0013520346462349158,
          0.0017288082012139117,
          0.008074197709739156,
          0.001604569777039776,
          0.0005265561873597333,
          0.0006059566883869682,
          0.003370894799973468,
          0.0053794743103939965,
          0.002006452434258698,
          0.002495893392538791,
          0.002186919925313639,
          0.008077130798438685,
          0.0035262725826698395,
          0.001198103493788183,
          0.0018051420672634858,
          0.0006632840525522147,
          0.0015573152409941288,
          0.0019050860411444267,
          0,
          0.000157063054945013,
          0.0016327321879638917,
          0.0012488888258523052,
          0.0018336403579547727,
          0.0064042747780769,
          0.00018818056245030744,
          0.00010046015371626466,
          0.00042288190823691895,
          0.0001778546967962194,
          0.000340494537127442,
          0,
          0.0008807944761293345,
          4.079610710166156e-05,
          0.0006976509885192766,
          0.0011374440966612836,
          0.0002275822602918999,
          0.0013746858101978982,
          0.0025376205874827413,
          0.00010129857188322652,
          0.00012880773453953037,
          0.00044943285066281394,
          0.001080892753621677,
          0.0001501124905010086,
          0.001326499360235634,
          0.0016627856769288072,
          0.0034879880008327267,
          0.0030579437998108604,
          3.3968636710694684e-05,
          0.0003777547311540067,
          0.0018192964170752556,
          0.000749638559319778,
          7.257174580052066e-05,
          0.0009425218714823973,
          0.0001527408956440065,
          0.00038829055426121213,
          0.00025356994499271275,
          0.00019833123672341674,
          0,
          0,
          0.00024073719183885286,
          0.0033686997356606367,
          0.0014336317529800675,
          0.0001671592765326442,
          0.0003405657763030662,
          0.006152749873602219,
          7.21697068317598e-05,
          0.00021128935267884194,
          0.0032643266339369543,
          0.001747921781257031,
          0.0033336370027280955,
          0.003246419956291148,
          0.0002914470398122002,
          0.009359987968023035,
          0.0003216378893817259,
          0.00014751148933248612,
          0.00034891820264208777,
          0.0004126094248976614,
          0.0007830675552398289,
          0.000509924436093517,
          0.0024540412704656873,
          0.01043528652223273,
          6.822245780837663e-05,
          0,
          0.0035267191862938703,
          0.0001500114319985348,
          0.00024540053858263124,
          0.0001527057060139594,
          0.0011785405021267474,
          0.0006202710173606553,
          0.014367669507842972,
          0.008137060519754458,
          0.0023985233222529496,
          0.005549790663517657,
          0.0023799367284071298,
          0.0010266858817106499,
          0.004182980734045039,
          0.000549363962630836,
          0.0001222185609118093,
          0.0008329222120921028,
          7.634790227947174e-05,
          0.0001277033877781972,
          0.00547700494614831,
          0.0002031449509854765,
          6.476136398550456e-05,
          0,
          0.0010770447018651095,
          0.0008009027908264258,
          0.00011014451409867899,
          7.902419434852841e-05,
          0.0013047264565885183,
          0.0014403415211899826,
          0.0040037282631069475,
          0.006070363088115061,
          9.624742963046086e-05,
          2.2387887468465118e-05,
          0.012243436984825797,
          0.0004789985914928987,
          0.0011034786947101915,
          0.0035106022282424556,
          0,
          0.002698984551484111,
          0.0003066689837815606,
          0.00025409697980918847,
          0.00037370264138948466,
          0.000548905074895142,
          0.015571145192397176,
          0.016470932639055063,
          0.014125531689277796,
          0.014711060591665928,
          0.01488863379467205,
          0.014759567012510551,
          0.0149033035414246,
          0.015127996550018553,
          0.015582006769682378,
          0.015856687125338668,
          0.014799957925929218,
          0.010960502639747011,
          0.013497463467361658,
          0.0062582474904614915,
          0.004668940968937957
         ]
        }
       ],
       "layout": {
        "autosize": true,
        "hovermode": "closest",
        "showlegend": false,
        "template": {
         "data": {
          "bar": [
           {
            "error_x": {
             "color": "#2a3f5f"
            },
            "error_y": {
             "color": "#2a3f5f"
            },
            "marker": {
             "line": {
              "color": "#E5ECF6",
              "width": 0.5
             },
             "pattern": {
              "fillmode": "overlay",
              "size": 10,
              "solidity": 0.2
             }
            },
            "type": "bar"
           }
          ],
          "barpolar": [
           {
            "marker": {
             "line": {
              "color": "#E5ECF6",
              "width": 0.5
             },
             "pattern": {
              "fillmode": "overlay",
              "size": 10,
              "solidity": 0.2
             }
            },
            "type": "barpolar"
           }
          ],
          "carpet": [
           {
            "aaxis": {
             "endlinecolor": "#2a3f5f",
             "gridcolor": "white",
             "linecolor": "white",
             "minorgridcolor": "white",
             "startlinecolor": "#2a3f5f"
            },
            "baxis": {
             "endlinecolor": "#2a3f5f",
             "gridcolor": "white",
             "linecolor": "white",
             "minorgridcolor": "white",
             "startlinecolor": "#2a3f5f"
            },
            "type": "carpet"
           }
          ],
          "choropleth": [
           {
            "colorbar": {
             "outlinewidth": 0,
             "ticks": ""
            },
            "type": "choropleth"
           }
          ],
          "contour": [
           {
            "colorbar": {
             "outlinewidth": 0,
             "ticks": ""
            },
            "colorscale": [
             [
              0,
              "#0d0887"
             ],
             [
              0.1111111111111111,
              "#46039f"
             ],
             [
              0.2222222222222222,
              "#7201a8"
             ],
             [
              0.3333333333333333,
              "#9c179e"
             ],
             [
              0.4444444444444444,
              "#bd3786"
             ],
             [
              0.5555555555555556,
              "#d8576b"
             ],
             [
              0.6666666666666666,
              "#ed7953"
             ],
             [
              0.7777777777777778,
              "#fb9f3a"
             ],
             [
              0.8888888888888888,
              "#fdca26"
             ],
             [
              1,
              "#f0f921"
             ]
            ],
            "type": "contour"
           }
          ],
          "contourcarpet": [
           {
            "colorbar": {
             "outlinewidth": 0,
             "ticks": ""
            },
            "type": "contourcarpet"
           }
          ],
          "heatmap": [
           {
            "colorbar": {
             "outlinewidth": 0,
             "ticks": ""
            },
            "colorscale": [
             [
              0,
              "#0d0887"
             ],
             [
              0.1111111111111111,
              "#46039f"
             ],
             [
              0.2222222222222222,
              "#7201a8"
             ],
             [
              0.3333333333333333,
              "#9c179e"
             ],
             [
              0.4444444444444444,
              "#bd3786"
             ],
             [
              0.5555555555555556,
              "#d8576b"
             ],
             [
              0.6666666666666666,
              "#ed7953"
             ],
             [
              0.7777777777777778,
              "#fb9f3a"
             ],
             [
              0.8888888888888888,
              "#fdca26"
             ],
             [
              1,
              "#f0f921"
             ]
            ],
            "type": "heatmap"
           }
          ],
          "heatmapgl": [
           {
            "colorbar": {
             "outlinewidth": 0,
             "ticks": ""
            },
            "colorscale": [
             [
              0,
              "#0d0887"
             ],
             [
              0.1111111111111111,
              "#46039f"
             ],
             [
              0.2222222222222222,
              "#7201a8"
             ],
             [
              0.3333333333333333,
              "#9c179e"
             ],
             [
              0.4444444444444444,
              "#bd3786"
             ],
             [
              0.5555555555555556,
              "#d8576b"
             ],
             [
              0.6666666666666666,
              "#ed7953"
             ],
             [
              0.7777777777777778,
              "#fb9f3a"
             ],
             [
              0.8888888888888888,
              "#fdca26"
             ],
             [
              1,
              "#f0f921"
             ]
            ],
            "type": "heatmapgl"
           }
          ],
          "histogram": [
           {
            "marker": {
             "pattern": {
              "fillmode": "overlay",
              "size": 10,
              "solidity": 0.2
             }
            },
            "type": "histogram"
           }
          ],
          "histogram2d": [
           {
            "colorbar": {
             "outlinewidth": 0,
             "ticks": ""
            },
            "colorscale": [
             [
              0,
              "#0d0887"
             ],
             [
              0.1111111111111111,
              "#46039f"
             ],
             [
              0.2222222222222222,
              "#7201a8"
             ],
             [
              0.3333333333333333,
              "#9c179e"
             ],
             [
              0.4444444444444444,
              "#bd3786"
             ],
             [
              0.5555555555555556,
              "#d8576b"
             ],
             [
              0.6666666666666666,
              "#ed7953"
             ],
             [
              0.7777777777777778,
              "#fb9f3a"
             ],
             [
              0.8888888888888888,
              "#fdca26"
             ],
             [
              1,
              "#f0f921"
             ]
            ],
            "type": "histogram2d"
           }
          ],
          "histogram2dcontour": [
           {
            "colorbar": {
             "outlinewidth": 0,
             "ticks": ""
            },
            "colorscale": [
             [
              0,
              "#0d0887"
             ],
             [
              0.1111111111111111,
              "#46039f"
             ],
             [
              0.2222222222222222,
              "#7201a8"
             ],
             [
              0.3333333333333333,
              "#9c179e"
             ],
             [
              0.4444444444444444,
              "#bd3786"
             ],
             [
              0.5555555555555556,
              "#d8576b"
             ],
             [
              0.6666666666666666,
              "#ed7953"
             ],
             [
              0.7777777777777778,
              "#fb9f3a"
             ],
             [
              0.8888888888888888,
              "#fdca26"
             ],
             [
              1,
              "#f0f921"
             ]
            ],
            "type": "histogram2dcontour"
           }
          ],
          "mesh3d": [
           {
            "colorbar": {
             "outlinewidth": 0,
             "ticks": ""
            },
            "type": "mesh3d"
           }
          ],
          "parcoords": [
           {
            "line": {
             "colorbar": {
              "outlinewidth": 0,
              "ticks": ""
             }
            },
            "type": "parcoords"
           }
          ],
          "pie": [
           {
            "automargin": true,
            "type": "pie"
           }
          ],
          "scatter": [
           {
            "fillpattern": {
             "fillmode": "overlay",
             "size": 10,
             "solidity": 0.2
            },
            "type": "scatter"
           }
          ],
          "scatter3d": [
           {
            "line": {
             "colorbar": {
              "outlinewidth": 0,
              "ticks": ""
             }
            },
            "marker": {
             "colorbar": {
              "outlinewidth": 0,
              "ticks": ""
             }
            },
            "type": "scatter3d"
           }
          ],
          "scattercarpet": [
           {
            "marker": {
             "colorbar": {
              "outlinewidth": 0,
              "ticks": ""
             }
            },
            "type": "scattercarpet"
           }
          ],
          "scattergeo": [
           {
            "marker": {
             "colorbar": {
              "outlinewidth": 0,
              "ticks": ""
             }
            },
            "type": "scattergeo"
           }
          ],
          "scattergl": [
           {
            "marker": {
             "colorbar": {
              "outlinewidth": 0,
              "ticks": ""
             }
            },
            "type": "scattergl"
           }
          ],
          "scattermapbox": [
           {
            "marker": {
             "colorbar": {
              "outlinewidth": 0,
              "ticks": ""
             }
            },
            "type": "scattermapbox"
           }
          ],
          "scatterpolar": [
           {
            "marker": {
             "colorbar": {
              "outlinewidth": 0,
              "ticks": ""
             }
            },
            "type": "scatterpolar"
           }
          ],
          "scatterpolargl": [
           {
            "marker": {
             "colorbar": {
              "outlinewidth": 0,
              "ticks": ""
             }
            },
            "type": "scatterpolargl"
           }
          ],
          "scatterternary": [
           {
            "marker": {
             "colorbar": {
              "outlinewidth": 0,
              "ticks": ""
             }
            },
            "type": "scatterternary"
           }
          ],
          "surface": [
           {
            "colorbar": {
             "outlinewidth": 0,
             "ticks": ""
            },
            "colorscale": [
             [
              0,
              "#0d0887"
             ],
             [
              0.1111111111111111,
              "#46039f"
             ],
             [
              0.2222222222222222,
              "#7201a8"
             ],
             [
              0.3333333333333333,
              "#9c179e"
             ],
             [
              0.4444444444444444,
              "#bd3786"
             ],
             [
              0.5555555555555556,
              "#d8576b"
             ],
             [
              0.6666666666666666,
              "#ed7953"
             ],
             [
              0.7777777777777778,
              "#fb9f3a"
             ],
             [
              0.8888888888888888,
              "#fdca26"
             ],
             [
              1,
              "#f0f921"
             ]
            ],
            "type": "surface"
           }
          ],
          "table": [
           {
            "cells": {
             "fill": {
              "color": "#EBF0F8"
             },
             "line": {
              "color": "white"
             }
            },
            "header": {
             "fill": {
              "color": "#C8D4E3"
             },
             "line": {
              "color": "white"
             }
            },
            "type": "table"
           }
          ]
         },
         "layout": {
          "annotationdefaults": {
           "arrowcolor": "#2a3f5f",
           "arrowhead": 0,
           "arrowwidth": 1
          },
          "autotypenumbers": "strict",
          "coloraxis": {
           "colorbar": {
            "outlinewidth": 0,
            "ticks": ""
           }
          },
          "colorscale": {
           "diverging": [
            [
             0,
             "#8e0152"
            ],
            [
             0.1,
             "#c51b7d"
            ],
            [
             0.2,
             "#de77ae"
            ],
            [
             0.3,
             "#f1b6da"
            ],
            [
             0.4,
             "#fde0ef"
            ],
            [
             0.5,
             "#f7f7f7"
            ],
            [
             0.6,
             "#e6f5d0"
            ],
            [
             0.7,
             "#b8e186"
            ],
            [
             0.8,
             "#7fbc41"
            ],
            [
             0.9,
             "#4d9221"
            ],
            [
             1,
             "#276419"
            ]
           ],
           "sequential": [
            [
             0,
             "#0d0887"
            ],
            [
             0.1111111111111111,
             "#46039f"
            ],
            [
             0.2222222222222222,
             "#7201a8"
            ],
            [
             0.3333333333333333,
             "#9c179e"
            ],
            [
             0.4444444444444444,
             "#bd3786"
            ],
            [
             0.5555555555555556,
             "#d8576b"
            ],
            [
             0.6666666666666666,
             "#ed7953"
            ],
            [
             0.7777777777777778,
             "#fb9f3a"
            ],
            [
             0.8888888888888888,
             "#fdca26"
            ],
            [
             1,
             "#f0f921"
            ]
           ],
           "sequentialminus": [
            [
             0,
             "#0d0887"
            ],
            [
             0.1111111111111111,
             "#46039f"
            ],
            [
             0.2222222222222222,
             "#7201a8"
            ],
            [
             0.3333333333333333,
             "#9c179e"
            ],
            [
             0.4444444444444444,
             "#bd3786"
            ],
            [
             0.5555555555555556,
             "#d8576b"
            ],
            [
             0.6666666666666666,
             "#ed7953"
            ],
            [
             0.7777777777777778,
             "#fb9f3a"
            ],
            [
             0.8888888888888888,
             "#fdca26"
            ],
            [
             1,
             "#f0f921"
            ]
           ]
          },
          "colorway": [
           "#636efa",
           "#EF553B",
           "#00cc96",
           "#ab63fa",
           "#FFA15A",
           "#19d3f3",
           "#FF6692",
           "#B6E880",
           "#FF97FF",
           "#FECB52"
          ],
          "font": {
           "color": "#2a3f5f"
          },
          "geo": {
           "bgcolor": "white",
           "lakecolor": "white",
           "landcolor": "#E5ECF6",
           "showlakes": true,
           "showland": true,
           "subunitcolor": "white"
          },
          "hoverlabel": {
           "align": "left"
          },
          "hovermode": "closest",
          "mapbox": {
           "style": "light"
          },
          "paper_bgcolor": "white",
          "plot_bgcolor": "#E5ECF6",
          "polar": {
           "angularaxis": {
            "gridcolor": "white",
            "linecolor": "white",
            "ticks": ""
           },
           "bgcolor": "#E5ECF6",
           "radialaxis": {
            "gridcolor": "white",
            "linecolor": "white",
            "ticks": ""
           }
          },
          "scene": {
           "xaxis": {
            "backgroundcolor": "#E5ECF6",
            "gridcolor": "white",
            "gridwidth": 2,
            "linecolor": "white",
            "showbackground": true,
            "ticks": "",
            "zerolinecolor": "white"
           },
           "yaxis": {
            "backgroundcolor": "#E5ECF6",
            "gridcolor": "white",
            "gridwidth": 2,
            "linecolor": "white",
            "showbackground": true,
            "ticks": "",
            "zerolinecolor": "white"
           },
           "zaxis": {
            "backgroundcolor": "#E5ECF6",
            "gridcolor": "white",
            "gridwidth": 2,
            "linecolor": "white",
            "showbackground": true,
            "ticks": "",
            "zerolinecolor": "white"
           }
          },
          "shapedefaults": {
           "line": {
            "color": "#2a3f5f"
           }
          },
          "ternary": {
           "aaxis": {
            "gridcolor": "white",
            "linecolor": "white",
            "ticks": ""
           },
           "baxis": {
            "gridcolor": "white",
            "linecolor": "white",
            "ticks": ""
           },
           "bgcolor": "#E5ECF6",
           "caxis": {
            "gridcolor": "white",
            "linecolor": "white",
            "ticks": ""
           }
          },
          "title": {
           "x": 0.05
          },
          "xaxis": {
           "automargin": true,
           "gridcolor": "white",
           "linecolor": "white",
           "ticks": "",
           "title": {
            "standoff": 15
           },
           "zerolinecolor": "white",
           "zerolinewidth": 2
          },
          "yaxis": {
           "automargin": true,
           "gridcolor": "white",
           "linecolor": "white",
           "ticks": "",
           "title": {
            "standoff": 15
           },
           "zerolinecolor": "white",
           "zerolinewidth": 2
          }
         }
        },
        "xaxis": {
         "showgrid": false,
         "showline": false,
         "ticklen": 5,
         "zeroline": false
        },
        "yaxis": {
         "gridwidth": 2,
         "showgrid": false,
         "ticklen": 5,
         "title": {
          "text": "Feature Importance"
         },
         "zeroline": false
        }
       }
      },
      "text/html": [
       "<div>                            <div id=\"383ba850-c2c7-49eb-ad1d-e2eb2638770d\" class=\"plotly-graph-div\" style=\"height:525px; width:100%;\"></div>            <script type=\"text/javascript\">                require([\"plotly\"], function(Plotly) {                    window.PLOTLYENV=window.PLOTLYENV || {};                                    if (document.getElementById(\"383ba850-c2c7-49eb-ad1d-e2eb2638770d\")) {                    Plotly.newPlot(                        \"383ba850-c2c7-49eb-ad1d-e2eb2638770d\",                        [{\"marker\":{\"color\":[0.04086889560616341,0.08619898083622113,0.001625922477729374,0.0020100358726942522,0.004813543560436063,0.0027158898987793383,0.0005885931620764056,0.0009542528774534934,0.0030135621018247123,0.0007034148243544274,0.0007509217750015848,0.0018702178251781712,0.0007022105234017578,0.0009582777968622407,0.00026566625551365555,0.0008731609571095021,0.001756386447204761,0.0007942750038997352,0.0012540570591275766,0.003684666028898556,0.002333261571204521,0.0005988432400559731,0.0008150832187612028,0.006859089814218475,0.014260364278249595,0.011575594632209902,0.0015824684813090714,0.001977645464399244,0.0007834352166134063,0.0031178178092538893,0.0007799301972276888,0.0010403445891827518,0.0007300832956017114,0.0024701466983898745,0.011030731177296367,0.011730622937426247,0.010875125534703904,0.010843752426238537,0.012096738436375924,0.011017204497407179,0.01164008119975888,0.011442153090178632,0.010947948753186656,0.01117614882368048,0.016846006554771416,0.01677595741666392,0.017576043979631823,0.01684283889585938,0.015594074450449864,0.01661648268179043,0.015032122608729673,0.01644681932129975,0.01642041965914932,0.003385389411837392,0.002193751466554561,0.008104416442887445,0.009799349203990941,0.005723073058905492,0.004033082055266562,0.007774230184718999,0.002839793358178095,0.003683610496077518,0.0002480939552339559,0.01046549972939195,0.0028220018190443334,0.017397320668531904,0.004481752187472934,0.0036542034480263113,0.013236105521924413,0.005036941148082365,0.006154002132041844,0.0013520346462349158,0.0017288082012139117,0.008074197709739156,0.001604569777039776,0.0005265561873597333,0.0006059566883869682,0.003370894799973468,0.0053794743103939965,0.002006452434258698,0.002495893392538791,0.002186919925313639,0.008077130798438685,0.0035262725826698395,0.001198103493788183,0.0018051420672634858,0.0006632840525522147,0.0015573152409941288,0.0019050860411444267,0.0,0.000157063054945013,0.0016327321879638917,0.0012488888258523052,0.0018336403579547727,0.0064042747780769,0.00018818056245030744,0.00010046015371626466,0.00042288190823691895,0.0001778546967962194,0.000340494537127442,0.0,0.0008807944761293345,4.079610710166156e-05,0.0006976509885192766,0.0011374440966612836,0.0002275822602918999,0.0013746858101978982,0.0025376205874827413,0.00010129857188322652,0.00012880773453953037,0.00044943285066281394,0.001080892753621677,0.0001501124905010086,0.001326499360235634,0.0016627856769288072,0.0034879880008327267,0.0030579437998108604,3.3968636710694684e-05,0.0003777547311540067,0.0018192964170752556,0.000749638559319778,7.257174580052066e-05,0.0009425218714823973,0.0001527408956440065,0.00038829055426121213,0.00025356994499271275,0.00019833123672341674,0.0,0.0,0.00024073719183885286,0.0033686997356606367,0.0014336317529800675,0.0001671592765326442,0.0003405657763030662,0.006152749873602219,7.21697068317598e-05,0.00021128935267884194,0.0032643266339369543,0.001747921781257031,0.0033336370027280955,0.003246419956291148,0.0002914470398122002,0.009359987968023035,0.0003216378893817259,0.00014751148933248612,0.00034891820264208777,0.0004126094248976614,0.0007830675552398289,0.000509924436093517,0.0024540412704656873,0.01043528652223273,6.822245780837663e-05,0.0,0.0035267191862938703,0.0001500114319985348,0.00024540053858263124,0.0001527057060139594,0.0011785405021267474,0.0006202710173606553,0.014367669507842972,0.008137060519754458,0.0023985233222529496,0.005549790663517657,0.0023799367284071298,0.0010266858817106499,0.004182980734045039,0.000549363962630836,0.0001222185609118093,0.0008329222120921028,7.634790227947174e-05,0.0001277033877781972,0.00547700494614831,0.0002031449509854765,6.476136398550456e-05,0.0,0.0010770447018651095,0.0008009027908264258,0.00011014451409867899,7.902419434852841e-05,0.0013047264565885183,0.0014403415211899826,0.0040037282631069475,0.006070363088115061,9.624742963046086e-05,2.2387887468465118e-05,0.012243436984825797,0.0004789985914928987,0.0011034786947101915,0.0035106022282424556,0.0,0.002698984551484111,0.0003066689837815606,0.00025409697980918847,0.00037370264138948466,0.000548905074895142,0.015571145192397176,0.016470932639055063,0.014125531689277796,0.014711060591665928,0.01488863379467205,0.014759567012510551,0.0149033035414246,0.015127996550018553,0.015582006769682378,0.015856687125338668,0.014799957925929218,0.010960502639747011,0.013497463467361658,0.0062582474904614915,0.004668940968937957],\"colorscale\":[[0.0,\"rgb(12,51,131)\"],[0.25,\"rgb(10,136,186)\"],[0.5,\"rgb(242,211,56)\"],[0.75,\"rgb(242,143,56)\"],[1.0,\"rgb(217,30,30)\"]],\"showscale\":true,\"size\":13,\"sizemode\":\"diameter\",\"sizeref\":1},\"mode\":\"markers\",\"text\":[\"Current Employee Rating\",\"Age\",\"Title_Accountant I\",\"Title_Administrative Assistant\",\"Title_Area Sales Manager\",\"Title_BI Developer\",\"Title_BI Director\",\"Title_CIO\",\"Title_Data Analyst\",\"Title_Data Analyst \",\"Title_Data Architect\",\"Title_Database Administrator\",\"Title_Director of Operations\",\"Title_Director of Sales\",\"Title_Enterprise Architect\",\"Title_IT Director\",\"Title_IT Manager - DB\",\"Title_IT Manager - Infra\",\"Title_IT Manager - Support\",\"Title_IT Support\",\"Title_Network Engineer\",\"Title_President & CEO\",\"Title_Principal Data Architect\",\"Title_Production Manager\",\"Title_Production Technician I\",\"Title_Production Technician II\",\"Title_Sales Manager\",\"Title_Senior BI Developer\",\"Title_Shared Services Manager\",\"Title_Software Engineer\",\"Title_Software Engineering Manager\",\"Title_Sr. Accountant\",\"Title_Sr. DBA\",\"Title_Sr. Network Engineer\",\"BusinessUnit_BPC\",\"BusinessUnit_CCDR\",\"BusinessUnit_EW\",\"BusinessUnit_MSC\",\"BusinessUnit_NEL\",\"BusinessUnit_PL\",\"BusinessUnit_PYZ\",\"BusinessUnit_SVG\",\"BusinessUnit_TNS\",\"BusinessUnit_WBL\",\"EmployeeType_Contract\",\"EmployeeType_Full-Time\",\"EmployeeType_Part-Time\",\"PayZone_Zone A\",\"PayZone_Zone B\",\"PayZone_Zone C\",\"EmployeeClassificationType_Full-Time\",\"EmployeeClassificationType_Part-Time\",\"EmployeeClassificationType_Temporary\",\"DepartmentType_Admin Offices\",\"DepartmentType_Executive Office\",\"DepartmentType_IT/IS\",\"DepartmentType_Production       \",\"DepartmentType_Sales\",\"DepartmentType_Software Engineering\",\"Division_Aerial\",\"Division_Billable Consultants\",\"Division_Catv\",\"Division_Corp Operations\",\"Division_Engineers\",\"Division_Executive\",\"Division_Field Operations\",\"Division_Fielders\",\"Division_Finance & Accounting\",\"Division_General - Con\",\"Division_General - Eng\",\"Division_General - Sga\",\"Division_Isp\",\"Division_People Services\",\"Division_Project Management - Con\",\"Division_Project Management - Eng\",\"Division_Safety\",\"Division_Sales & Marketing\",\"Division_Shop (Fleet)\",\"Division_Splicing\",\"Division_Technology / It\",\"Division_Underground\",\"Division_Wireless\",\"Division_Wireline Construction\",\"Division_Yard (Material Handling)\",\"State_AL\",\"State_AZ\",\"State_CA\",\"State_CO\",\"State_CT\",\"State_FL\",\"State_GA\",\"State_ID\",\"State_IN\",\"State_KY\",\"State_MA\",\"State_ME\",\"State_MT\",\"State_NC\",\"State_ND\",\"State_NH\",\"State_NV\",\"State_NY\",\"State_OH\",\"State_OR\",\"State_PA\",\"State_RI\",\"State_TN\",\"State_TX\",\"State_UT\",\"State_VA\",\"State_VT\",\"State_WA\",\"JobFunctionDescription_Accountant\",\"JobFunctionDescription_Accounting\",\"JobFunctionDescription_Administration\",\"JobFunctionDescription_Administrative\",\"JobFunctionDescription_Administrator\",\"JobFunctionDescription_Analyst\",\"JobFunctionDescription_Apprentice\",\"JobFunctionDescription_Assistant\",\"JobFunctionDescription_Associate\",\"JobFunctionDescription_Attendant\",\"JobFunctionDescription_Billing\",\"JobFunctionDescription_Business Development\",\"JobFunctionDescription_Ceo\",\"JobFunctionDescription_Cfo\",\"JobFunctionDescription_Chief Operating Officer\",\"JobFunctionDescription_Cio\",\"JobFunctionDescription_Civil Hand\",\"JobFunctionDescription_Clerical\",\"JobFunctionDescription_Clerk\",\"JobFunctionDescription_Construction Manager\",\"JobFunctionDescription_Contracts\",\"JobFunctionDescription_Controller\",\"JobFunctionDescription_Coordinator\",\"JobFunctionDescription_Cpo\",\"JobFunctionDescription_Crew Leader\",\"JobFunctionDescription_Director\",\"JobFunctionDescription_Drafter\",\"JobFunctionDescription_Driller\",\"JobFunctionDescription_Driver\",\"JobFunctionDescription_Electrician\",\"JobFunctionDescription_Engineer\",\"JobFunctionDescription_Estimator\",\"JobFunctionDescription_Evp\",\"JobFunctionDescription_Executive\",\"JobFunctionDescription_Executive Assistant\",\"JobFunctionDescription_Field Project Manager\",\"JobFunctionDescription_Field Technician\",\"JobFunctionDescription_Flagger\",\"JobFunctionDescription_Foreman\",\"JobFunctionDescription_General Manager\",\"JobFunctionDescription_Generalist\",\"JobFunctionDescription_Groundman\",\"JobFunctionDescription_Helpdesk\",\"JobFunctionDescription_Helper\",\"JobFunctionDescription_Inspector\",\"JobFunctionDescription_Intern\",\"JobFunctionDescription_Labor\",\"JobFunctionDescription_Laborer\",\"JobFunctionDescription_Lineman\",\"JobFunctionDescription_Locator\",\"JobFunctionDescription_Manager\",\"JobFunctionDescription_Mechanic\",\"JobFunctionDescription_Model Assistant\",\"JobFunctionDescription_Operator\",\"JobFunctionDescription_Planner\",\"JobFunctionDescription_Principal\",\"JobFunctionDescription_Program Manager\",\"JobFunctionDescription_Project Controls\",\"JobFunctionDescription_Project Coordinator\",\"JobFunctionDescription_Project Manager\",\"JobFunctionDescription_Purchasing\",\"JobFunctionDescription_Recruiter\",\"JobFunctionDescription_Recruiting\",\"JobFunctionDescription_Runner\",\"JobFunctionDescription_Safety\",\"JobFunctionDescription_Safety Manager\",\"JobFunctionDescription_Services\",\"JobFunctionDescription_Shop\",\"JobFunctionDescription_Specialist\",\"JobFunctionDescription_Splicer\",\"JobFunctionDescription_Supervisor\",\"JobFunctionDescription_Support\",\"JobFunctionDescription_Svp\",\"JobFunctionDescription_Technician\",\"JobFunctionDescription_Tester\",\"JobFunctionDescription_Top Hand\",\"JobFunctionDescription_Tower Hand\",\"JobFunctionDescription_Traffic\",\"JobFunctionDescription_Vp\",\"JobFunctionDescription_Warehouse\",\"JobFunctionDescription_Warehouse Manager\",\"JobFunctionDescription_Warehouse Technician\",\"JobFunctionDescription_Welder\",\"GenderCode_Female\",\"GenderCode_Male\",\"RaceDesc_Asian\",\"RaceDesc_Black\",\"RaceDesc_Hispanic\",\"RaceDesc_Other\",\"RaceDesc_White\",\"MaritalDesc_Divorced\",\"MaritalDesc_Married\",\"MaritalDesc_Single\",\"MaritalDesc_Widowed\",\"Performance Score_Exceeds\",\"Performance Score_Fully Meets\",\"Performance Score_Needs Improvement\",\"Performance Score_PIP\"],\"x\":[\"Current Employee Rating\",\"Age\",\"Title_Accountant I\",\"Title_Administrative Assistant\",\"Title_Area Sales Manager\",\"Title_BI Developer\",\"Title_BI Director\",\"Title_CIO\",\"Title_Data Analyst\",\"Title_Data Analyst \",\"Title_Data Architect\",\"Title_Database Administrator\",\"Title_Director of Operations\",\"Title_Director of Sales\",\"Title_Enterprise Architect\",\"Title_IT Director\",\"Title_IT Manager - DB\",\"Title_IT Manager - Infra\",\"Title_IT Manager - Support\",\"Title_IT Support\",\"Title_Network Engineer\",\"Title_President & CEO\",\"Title_Principal Data Architect\",\"Title_Production Manager\",\"Title_Production Technician I\",\"Title_Production Technician II\",\"Title_Sales Manager\",\"Title_Senior BI Developer\",\"Title_Shared Services Manager\",\"Title_Software Engineer\",\"Title_Software Engineering Manager\",\"Title_Sr. Accountant\",\"Title_Sr. DBA\",\"Title_Sr. Network Engineer\",\"BusinessUnit_BPC\",\"BusinessUnit_CCDR\",\"BusinessUnit_EW\",\"BusinessUnit_MSC\",\"BusinessUnit_NEL\",\"BusinessUnit_PL\",\"BusinessUnit_PYZ\",\"BusinessUnit_SVG\",\"BusinessUnit_TNS\",\"BusinessUnit_WBL\",\"EmployeeType_Contract\",\"EmployeeType_Full-Time\",\"EmployeeType_Part-Time\",\"PayZone_Zone A\",\"PayZone_Zone B\",\"PayZone_Zone C\",\"EmployeeClassificationType_Full-Time\",\"EmployeeClassificationType_Part-Time\",\"EmployeeClassificationType_Temporary\",\"DepartmentType_Admin Offices\",\"DepartmentType_Executive Office\",\"DepartmentType_IT/IS\",\"DepartmentType_Production       \",\"DepartmentType_Sales\",\"DepartmentType_Software Engineering\",\"Division_Aerial\",\"Division_Billable Consultants\",\"Division_Catv\",\"Division_Corp Operations\",\"Division_Engineers\",\"Division_Executive\",\"Division_Field Operations\",\"Division_Fielders\",\"Division_Finance & Accounting\",\"Division_General - Con\",\"Division_General - Eng\",\"Division_General - Sga\",\"Division_Isp\",\"Division_People Services\",\"Division_Project Management - Con\",\"Division_Project Management - Eng\",\"Division_Safety\",\"Division_Sales & Marketing\",\"Division_Shop (Fleet)\",\"Division_Splicing\",\"Division_Technology / It\",\"Division_Underground\",\"Division_Wireless\",\"Division_Wireline Construction\",\"Division_Yard (Material Handling)\",\"State_AL\",\"State_AZ\",\"State_CA\",\"State_CO\",\"State_CT\",\"State_FL\",\"State_GA\",\"State_ID\",\"State_IN\",\"State_KY\",\"State_MA\",\"State_ME\",\"State_MT\",\"State_NC\",\"State_ND\",\"State_NH\",\"State_NV\",\"State_NY\",\"State_OH\",\"State_OR\",\"State_PA\",\"State_RI\",\"State_TN\",\"State_TX\",\"State_UT\",\"State_VA\",\"State_VT\",\"State_WA\",\"JobFunctionDescription_Accountant\",\"JobFunctionDescription_Accounting\",\"JobFunctionDescription_Administration\",\"JobFunctionDescription_Administrative\",\"JobFunctionDescription_Administrator\",\"JobFunctionDescription_Analyst\",\"JobFunctionDescription_Apprentice\",\"JobFunctionDescription_Assistant\",\"JobFunctionDescription_Associate\",\"JobFunctionDescription_Attendant\",\"JobFunctionDescription_Billing\",\"JobFunctionDescription_Business Development\",\"JobFunctionDescription_Ceo\",\"JobFunctionDescription_Cfo\",\"JobFunctionDescription_Chief Operating Officer\",\"JobFunctionDescription_Cio\",\"JobFunctionDescription_Civil Hand\",\"JobFunctionDescription_Clerical\",\"JobFunctionDescription_Clerk\",\"JobFunctionDescription_Construction Manager\",\"JobFunctionDescription_Contracts\",\"JobFunctionDescription_Controller\",\"JobFunctionDescription_Coordinator\",\"JobFunctionDescription_Cpo\",\"JobFunctionDescription_Crew Leader\",\"JobFunctionDescription_Director\",\"JobFunctionDescription_Drafter\",\"JobFunctionDescription_Driller\",\"JobFunctionDescription_Driver\",\"JobFunctionDescription_Electrician\",\"JobFunctionDescription_Engineer\",\"JobFunctionDescription_Estimator\",\"JobFunctionDescription_Evp\",\"JobFunctionDescription_Executive\",\"JobFunctionDescription_Executive Assistant\",\"JobFunctionDescription_Field Project Manager\",\"JobFunctionDescription_Field Technician\",\"JobFunctionDescription_Flagger\",\"JobFunctionDescription_Foreman\",\"JobFunctionDescription_General Manager\",\"JobFunctionDescription_Generalist\",\"JobFunctionDescription_Groundman\",\"JobFunctionDescription_Helpdesk\",\"JobFunctionDescription_Helper\",\"JobFunctionDescription_Inspector\",\"JobFunctionDescription_Intern\",\"JobFunctionDescription_Labor\",\"JobFunctionDescription_Laborer\",\"JobFunctionDescription_Lineman\",\"JobFunctionDescription_Locator\",\"JobFunctionDescription_Manager\",\"JobFunctionDescription_Mechanic\",\"JobFunctionDescription_Model Assistant\",\"JobFunctionDescription_Operator\",\"JobFunctionDescription_Planner\",\"JobFunctionDescription_Principal\",\"JobFunctionDescription_Program Manager\",\"JobFunctionDescription_Project Controls\",\"JobFunctionDescription_Project Coordinator\",\"JobFunctionDescription_Project Manager\",\"JobFunctionDescription_Purchasing\",\"JobFunctionDescription_Recruiter\",\"JobFunctionDescription_Recruiting\",\"JobFunctionDescription_Runner\",\"JobFunctionDescription_Safety\",\"JobFunctionDescription_Safety Manager\",\"JobFunctionDescription_Services\",\"JobFunctionDescription_Shop\",\"JobFunctionDescription_Specialist\",\"JobFunctionDescription_Splicer\",\"JobFunctionDescription_Supervisor\",\"JobFunctionDescription_Support\",\"JobFunctionDescription_Svp\",\"JobFunctionDescription_Technician\",\"JobFunctionDescription_Tester\",\"JobFunctionDescription_Top Hand\",\"JobFunctionDescription_Tower Hand\",\"JobFunctionDescription_Traffic\",\"JobFunctionDescription_Vp\",\"JobFunctionDescription_Warehouse\",\"JobFunctionDescription_Warehouse Manager\",\"JobFunctionDescription_Warehouse Technician\",\"JobFunctionDescription_Welder\",\"GenderCode_Female\",\"GenderCode_Male\",\"RaceDesc_Asian\",\"RaceDesc_Black\",\"RaceDesc_Hispanic\",\"RaceDesc_Other\",\"RaceDesc_White\",\"MaritalDesc_Divorced\",\"MaritalDesc_Married\",\"MaritalDesc_Single\",\"MaritalDesc_Widowed\",\"Performance Score_Exceeds\",\"Performance Score_Fully Meets\",\"Performance Score_Needs Improvement\",\"Performance Score_PIP\"],\"y\":[0.04086889560616341,0.08619898083622113,0.001625922477729374,0.0020100358726942522,0.004813543560436063,0.0027158898987793383,0.0005885931620764056,0.0009542528774534934,0.0030135621018247123,0.0007034148243544274,0.0007509217750015848,0.0018702178251781712,0.0007022105234017578,0.0009582777968622407,0.00026566625551365555,0.0008731609571095021,0.001756386447204761,0.0007942750038997352,0.0012540570591275766,0.003684666028898556,0.002333261571204521,0.0005988432400559731,0.0008150832187612028,0.006859089814218475,0.014260364278249595,0.011575594632209902,0.0015824684813090714,0.001977645464399244,0.0007834352166134063,0.0031178178092538893,0.0007799301972276888,0.0010403445891827518,0.0007300832956017114,0.0024701466983898745,0.011030731177296367,0.011730622937426247,0.010875125534703904,0.010843752426238537,0.012096738436375924,0.011017204497407179,0.01164008119975888,0.011442153090178632,0.010947948753186656,0.01117614882368048,0.016846006554771416,0.01677595741666392,0.017576043979631823,0.01684283889585938,0.015594074450449864,0.01661648268179043,0.015032122608729673,0.01644681932129975,0.01642041965914932,0.003385389411837392,0.002193751466554561,0.008104416442887445,0.009799349203990941,0.005723073058905492,0.004033082055266562,0.007774230184718999,0.002839793358178095,0.003683610496077518,0.0002480939552339559,0.01046549972939195,0.0028220018190443334,0.017397320668531904,0.004481752187472934,0.0036542034480263113,0.013236105521924413,0.005036941148082365,0.006154002132041844,0.0013520346462349158,0.0017288082012139117,0.008074197709739156,0.001604569777039776,0.0005265561873597333,0.0006059566883869682,0.003370894799973468,0.0053794743103939965,0.002006452434258698,0.002495893392538791,0.002186919925313639,0.008077130798438685,0.0035262725826698395,0.001198103493788183,0.0018051420672634858,0.0006632840525522147,0.0015573152409941288,0.0019050860411444267,0.0,0.000157063054945013,0.0016327321879638917,0.0012488888258523052,0.0018336403579547727,0.0064042747780769,0.00018818056245030744,0.00010046015371626466,0.00042288190823691895,0.0001778546967962194,0.000340494537127442,0.0,0.0008807944761293345,4.079610710166156e-05,0.0006976509885192766,0.0011374440966612836,0.0002275822602918999,0.0013746858101978982,0.0025376205874827413,0.00010129857188322652,0.00012880773453953037,0.00044943285066281394,0.001080892753621677,0.0001501124905010086,0.001326499360235634,0.0016627856769288072,0.0034879880008327267,0.0030579437998108604,3.3968636710694684e-05,0.0003777547311540067,0.0018192964170752556,0.000749638559319778,7.257174580052066e-05,0.0009425218714823973,0.0001527408956440065,0.00038829055426121213,0.00025356994499271275,0.00019833123672341674,0.0,0.0,0.00024073719183885286,0.0033686997356606367,0.0014336317529800675,0.0001671592765326442,0.0003405657763030662,0.006152749873602219,7.21697068317598e-05,0.00021128935267884194,0.0032643266339369543,0.001747921781257031,0.0033336370027280955,0.003246419956291148,0.0002914470398122002,0.009359987968023035,0.0003216378893817259,0.00014751148933248612,0.00034891820264208777,0.0004126094248976614,0.0007830675552398289,0.000509924436093517,0.0024540412704656873,0.01043528652223273,6.822245780837663e-05,0.0,0.0035267191862938703,0.0001500114319985348,0.00024540053858263124,0.0001527057060139594,0.0011785405021267474,0.0006202710173606553,0.014367669507842972,0.008137060519754458,0.0023985233222529496,0.005549790663517657,0.0023799367284071298,0.0010266858817106499,0.004182980734045039,0.000549363962630836,0.0001222185609118093,0.0008329222120921028,7.634790227947174e-05,0.0001277033877781972,0.00547700494614831,0.0002031449509854765,6.476136398550456e-05,0.0,0.0010770447018651095,0.0008009027908264258,0.00011014451409867899,7.902419434852841e-05,0.0013047264565885183,0.0014403415211899826,0.0040037282631069475,0.006070363088115061,9.624742963046086e-05,2.2387887468465118e-05,0.012243436984825797,0.0004789985914928987,0.0011034786947101915,0.0035106022282424556,0.0,0.002698984551484111,0.0003066689837815606,0.00025409697980918847,0.00037370264138948466,0.000548905074895142,0.015571145192397176,0.016470932639055063,0.014125531689277796,0.014711060591665928,0.01488863379467205,0.014759567012510551,0.0149033035414246,0.015127996550018553,0.015582006769682378,0.015856687125338668,0.014799957925929218,0.010960502639747011,0.013497463467361658,0.0062582474904614915,0.004668940968937957],\"type\":\"scatter\"}],                        {\"autosize\":true,\"hovermode\":\"closest\",\"showlegend\":false,\"template\":{\"data\":{\"barpolar\":[{\"marker\":{\"line\":{\"color\":\"#E5ECF6\",\"width\":0.5},\"pattern\":{\"fillmode\":\"overlay\",\"size\":10,\"solidity\":0.2}},\"type\":\"barpolar\"}],\"bar\":[{\"error_x\":{\"color\":\"#2a3f5f\"},\"error_y\":{\"color\":\"#2a3f5f\"},\"marker\":{\"line\":{\"color\":\"#E5ECF6\",\"width\":0.5},\"pattern\":{\"fillmode\":\"overlay\",\"size\":10,\"solidity\":0.2}},\"type\":\"bar\"}],\"carpet\":[{\"aaxis\":{\"endlinecolor\":\"#2a3f5f\",\"gridcolor\":\"white\",\"linecolor\":\"white\",\"minorgridcolor\":\"white\",\"startlinecolor\":\"#2a3f5f\"},\"baxis\":{\"endlinecolor\":\"#2a3f5f\",\"gridcolor\":\"white\",\"linecolor\":\"white\",\"minorgridcolor\":\"white\",\"startlinecolor\":\"#2a3f5f\"},\"type\":\"carpet\"}],\"choropleth\":[{\"colorbar\":{\"outlinewidth\":0,\"ticks\":\"\"},\"type\":\"choropleth\"}],\"contourcarpet\":[{\"colorbar\":{\"outlinewidth\":0,\"ticks\":\"\"},\"type\":\"contourcarpet\"}],\"contour\":[{\"colorbar\":{\"outlinewidth\":0,\"ticks\":\"\"},\"colorscale\":[[0.0,\"#0d0887\"],[0.1111111111111111,\"#46039f\"],[0.2222222222222222,\"#7201a8\"],[0.3333333333333333,\"#9c179e\"],[0.4444444444444444,\"#bd3786\"],[0.5555555555555556,\"#d8576b\"],[0.6666666666666666,\"#ed7953\"],[0.7777777777777778,\"#fb9f3a\"],[0.8888888888888888,\"#fdca26\"],[1.0,\"#f0f921\"]],\"type\":\"contour\"}],\"heatmapgl\":[{\"colorbar\":{\"outlinewidth\":0,\"ticks\":\"\"},\"colorscale\":[[0.0,\"#0d0887\"],[0.1111111111111111,\"#46039f\"],[0.2222222222222222,\"#7201a8\"],[0.3333333333333333,\"#9c179e\"],[0.4444444444444444,\"#bd3786\"],[0.5555555555555556,\"#d8576b\"],[0.6666666666666666,\"#ed7953\"],[0.7777777777777778,\"#fb9f3a\"],[0.8888888888888888,\"#fdca26\"],[1.0,\"#f0f921\"]],\"type\":\"heatmapgl\"}],\"heatmap\":[{\"colorbar\":{\"outlinewidth\":0,\"ticks\":\"\"},\"colorscale\":[[0.0,\"#0d0887\"],[0.1111111111111111,\"#46039f\"],[0.2222222222222222,\"#7201a8\"],[0.3333333333333333,\"#9c179e\"],[0.4444444444444444,\"#bd3786\"],[0.5555555555555556,\"#d8576b\"],[0.6666666666666666,\"#ed7953\"],[0.7777777777777778,\"#fb9f3a\"],[0.8888888888888888,\"#fdca26\"],[1.0,\"#f0f921\"]],\"type\":\"heatmap\"}],\"histogram2dcontour\":[{\"colorbar\":{\"outlinewidth\":0,\"ticks\":\"\"},\"colorscale\":[[0.0,\"#0d0887\"],[0.1111111111111111,\"#46039f\"],[0.2222222222222222,\"#7201a8\"],[0.3333333333333333,\"#9c179e\"],[0.4444444444444444,\"#bd3786\"],[0.5555555555555556,\"#d8576b\"],[0.6666666666666666,\"#ed7953\"],[0.7777777777777778,\"#fb9f3a\"],[0.8888888888888888,\"#fdca26\"],[1.0,\"#f0f921\"]],\"type\":\"histogram2dcontour\"}],\"histogram2d\":[{\"colorbar\":{\"outlinewidth\":0,\"ticks\":\"\"},\"colorscale\":[[0.0,\"#0d0887\"],[0.1111111111111111,\"#46039f\"],[0.2222222222222222,\"#7201a8\"],[0.3333333333333333,\"#9c179e\"],[0.4444444444444444,\"#bd3786\"],[0.5555555555555556,\"#d8576b\"],[0.6666666666666666,\"#ed7953\"],[0.7777777777777778,\"#fb9f3a\"],[0.8888888888888888,\"#fdca26\"],[1.0,\"#f0f921\"]],\"type\":\"histogram2d\"}],\"histogram\":[{\"marker\":{\"pattern\":{\"fillmode\":\"overlay\",\"size\":10,\"solidity\":0.2}},\"type\":\"histogram\"}],\"mesh3d\":[{\"colorbar\":{\"outlinewidth\":0,\"ticks\":\"\"},\"type\":\"mesh3d\"}],\"parcoords\":[{\"line\":{\"colorbar\":{\"outlinewidth\":0,\"ticks\":\"\"}},\"type\":\"parcoords\"}],\"pie\":[{\"automargin\":true,\"type\":\"pie\"}],\"scatter3d\":[{\"line\":{\"colorbar\":{\"outlinewidth\":0,\"ticks\":\"\"}},\"marker\":{\"colorbar\":{\"outlinewidth\":0,\"ticks\":\"\"}},\"type\":\"scatter3d\"}],\"scattercarpet\":[{\"marker\":{\"colorbar\":{\"outlinewidth\":0,\"ticks\":\"\"}},\"type\":\"scattercarpet\"}],\"scattergeo\":[{\"marker\":{\"colorbar\":{\"outlinewidth\":0,\"ticks\":\"\"}},\"type\":\"scattergeo\"}],\"scattergl\":[{\"marker\":{\"colorbar\":{\"outlinewidth\":0,\"ticks\":\"\"}},\"type\":\"scattergl\"}],\"scattermapbox\":[{\"marker\":{\"colorbar\":{\"outlinewidth\":0,\"ticks\":\"\"}},\"type\":\"scattermapbox\"}],\"scatterpolargl\":[{\"marker\":{\"colorbar\":{\"outlinewidth\":0,\"ticks\":\"\"}},\"type\":\"scatterpolargl\"}],\"scatterpolar\":[{\"marker\":{\"colorbar\":{\"outlinewidth\":0,\"ticks\":\"\"}},\"type\":\"scatterpolar\"}],\"scatter\":[{\"fillpattern\":{\"fillmode\":\"overlay\",\"size\":10,\"solidity\":0.2},\"type\":\"scatter\"}],\"scatterternary\":[{\"marker\":{\"colorbar\":{\"outlinewidth\":0,\"ticks\":\"\"}},\"type\":\"scatterternary\"}],\"surface\":[{\"colorbar\":{\"outlinewidth\":0,\"ticks\":\"\"},\"colorscale\":[[0.0,\"#0d0887\"],[0.1111111111111111,\"#46039f\"],[0.2222222222222222,\"#7201a8\"],[0.3333333333333333,\"#9c179e\"],[0.4444444444444444,\"#bd3786\"],[0.5555555555555556,\"#d8576b\"],[0.6666666666666666,\"#ed7953\"],[0.7777777777777778,\"#fb9f3a\"],[0.8888888888888888,\"#fdca26\"],[1.0,\"#f0f921\"]],\"type\":\"surface\"}],\"table\":[{\"cells\":{\"fill\":{\"color\":\"#EBF0F8\"},\"line\":{\"color\":\"white\"}},\"header\":{\"fill\":{\"color\":\"#C8D4E3\"},\"line\":{\"color\":\"white\"}},\"type\":\"table\"}]},\"layout\":{\"annotationdefaults\":{\"arrowcolor\":\"#2a3f5f\",\"arrowhead\":0,\"arrowwidth\":1},\"autotypenumbers\":\"strict\",\"coloraxis\":{\"colorbar\":{\"outlinewidth\":0,\"ticks\":\"\"}},\"colorscale\":{\"diverging\":[[0,\"#8e0152\"],[0.1,\"#c51b7d\"],[0.2,\"#de77ae\"],[0.3,\"#f1b6da\"],[0.4,\"#fde0ef\"],[0.5,\"#f7f7f7\"],[0.6,\"#e6f5d0\"],[0.7,\"#b8e186\"],[0.8,\"#7fbc41\"],[0.9,\"#4d9221\"],[1,\"#276419\"]],\"sequential\":[[0.0,\"#0d0887\"],[0.1111111111111111,\"#46039f\"],[0.2222222222222222,\"#7201a8\"],[0.3333333333333333,\"#9c179e\"],[0.4444444444444444,\"#bd3786\"],[0.5555555555555556,\"#d8576b\"],[0.6666666666666666,\"#ed7953\"],[0.7777777777777778,\"#fb9f3a\"],[0.8888888888888888,\"#fdca26\"],[1.0,\"#f0f921\"]],\"sequentialminus\":[[0.0,\"#0d0887\"],[0.1111111111111111,\"#46039f\"],[0.2222222222222222,\"#7201a8\"],[0.3333333333333333,\"#9c179e\"],[0.4444444444444444,\"#bd3786\"],[0.5555555555555556,\"#d8576b\"],[0.6666666666666666,\"#ed7953\"],[0.7777777777777778,\"#fb9f3a\"],[0.8888888888888888,\"#fdca26\"],[1.0,\"#f0f921\"]]},\"colorway\":[\"#636efa\",\"#EF553B\",\"#00cc96\",\"#ab63fa\",\"#FFA15A\",\"#19d3f3\",\"#FF6692\",\"#B6E880\",\"#FF97FF\",\"#FECB52\"],\"font\":{\"color\":\"#2a3f5f\"},\"geo\":{\"bgcolor\":\"white\",\"lakecolor\":\"white\",\"landcolor\":\"#E5ECF6\",\"showlakes\":true,\"showland\":true,\"subunitcolor\":\"white\"},\"hoverlabel\":{\"align\":\"left\"},\"hovermode\":\"closest\",\"mapbox\":{\"style\":\"light\"},\"paper_bgcolor\":\"white\",\"plot_bgcolor\":\"#E5ECF6\",\"polar\":{\"angularaxis\":{\"gridcolor\":\"white\",\"linecolor\":\"white\",\"ticks\":\"\"},\"bgcolor\":\"#E5ECF6\",\"radialaxis\":{\"gridcolor\":\"white\",\"linecolor\":\"white\",\"ticks\":\"\"}},\"scene\":{\"xaxis\":{\"backgroundcolor\":\"#E5ECF6\",\"gridcolor\":\"white\",\"gridwidth\":2,\"linecolor\":\"white\",\"showbackground\":true,\"ticks\":\"\",\"zerolinecolor\":\"white\"},\"yaxis\":{\"backgroundcolor\":\"#E5ECF6\",\"gridcolor\":\"white\",\"gridwidth\":2,\"linecolor\":\"white\",\"showbackground\":true,\"ticks\":\"\",\"zerolinecolor\":\"white\"},\"zaxis\":{\"backgroundcolor\":\"#E5ECF6\",\"gridcolor\":\"white\",\"gridwidth\":2,\"linecolor\":\"white\",\"showbackground\":true,\"ticks\":\"\",\"zerolinecolor\":\"white\"}},\"shapedefaults\":{\"line\":{\"color\":\"#2a3f5f\"}},\"ternary\":{\"aaxis\":{\"gridcolor\":\"white\",\"linecolor\":\"white\",\"ticks\":\"\"},\"baxis\":{\"gridcolor\":\"white\",\"linecolor\":\"white\",\"ticks\":\"\"},\"bgcolor\":\"#E5ECF6\",\"caxis\":{\"gridcolor\":\"white\",\"linecolor\":\"white\",\"ticks\":\"\"}},\"title\":{\"x\":0.05},\"xaxis\":{\"automargin\":true,\"gridcolor\":\"white\",\"linecolor\":\"white\",\"ticks\":\"\",\"title\":{\"standoff\":15},\"zerolinecolor\":\"white\",\"zerolinewidth\":2},\"yaxis\":{\"automargin\":true,\"gridcolor\":\"white\",\"linecolor\":\"white\",\"ticks\":\"\",\"title\":{\"standoff\":15},\"zerolinecolor\":\"white\",\"zerolinewidth\":2}}},\"xaxis\":{\"showgrid\":false,\"showline\":false,\"ticklen\":5,\"zeroline\":false},\"yaxis\":{\"gridwidth\":2,\"showgrid\":false,\"ticklen\":5,\"title\":{\"text\":\"Feature Importance\"},\"zeroline\":false}},                        {\"responsive\": true}                    ).then(function(){\n",
       "                            \n",
       "var gd = document.getElementById('383ba850-c2c7-49eb-ad1d-e2eb2638770d');\n",
       "var x = new MutationObserver(function (mutations, observer) {{\n",
       "        var display = window.getComputedStyle(gd).display;\n",
       "        if (!display || display === 'none') {{\n",
       "            console.log([gd, 'removed!']);\n",
       "            Plotly.purge(gd);\n",
       "            observer.disconnect();\n",
       "        }}\n",
       "}});\n",
       "\n",
       "// Listen for the removal of the full notebook cells\n",
       "var notebookContainer = gd.closest('#notebook-container');\n",
       "if (notebookContainer) {{\n",
       "    x.observe(notebookContainer, {childList: true});\n",
       "}}\n",
       "\n",
       "// Listen for the clearing of the current output cell\n",
       "var outputEl = gd.closest('.output');\n",
       "if (outputEl) {{\n",
       "    x.observe(outputEl, {childList: true});\n",
       "}}\n",
       "\n",
       "                        })                };                });            </script>        </div>"
      ]
     },
     "metadata": {},
     "output_type": "display_data"
    }
   ],
   "source": [
    "#Feature ranking via Random Forest\n",
    "#Scatter plot\n",
    "\n",
    "trace = go.Scatter(\n",
    "    y = rf_classifier.feature_importances_,\n",
    "    x = X.columns.values,\n",
    "    mode='markers',\n",
    "    marker=dict(\n",
    "        sizemode = 'diameter',\n",
    "        sizeref = 1, \n",
    "        size = 13,\n",
    "        color = rf_classifier.feature_importances_,\n",
    "        colorscale='Portland',\n",
    "        showscale=True\n",
    "    ),\n",
    "    text = X.columns.values\n",
    ")\n",
    "\n",
    "data = [trace]\n",
    "\n",
    "layout = go.Layout(\n",
    "    autosize = True, \n",
    "    hovermode= 'closest',\n",
    "    xaxis= dict(\n",
    "        ticklen=5,\n",
    "        showgrid = False,\n",
    "        zeroline= False, \n",
    "        showline= False,\n",
    "    ),\n",
    "    yaxis = dict(\n",
    "        title = \"Feature Importance\",\n",
    "        showgrid = False, \n",
    "        zeroline= False, \n",
    "        ticklen= 5, \n",
    "        gridwidth = 2\n",
    "    ),\n",
    "    showlegend = False\n",
    ")\n",
    "\n",
    "Fig = go.Figure(data=data, layout=layout)\n",
    "py.iplot(Fig,filename='scatter2010')"
   ]
  },
  {
   "cell_type": "code",
   "execution_count": null,
   "id": "88c67204",
   "metadata": {},
   "outputs": [],
   "source": []
  }
 ],
 "metadata": {
  "kernelspec": {
   "display_name": "Python 3 (ipykernel)",
   "language": "python",
   "name": "python3"
  },
  "language_info": {
   "codemirror_mode": {
    "name": "ipython",
    "version": 3
   },
   "file_extension": ".py",
   "mimetype": "text/x-python",
   "name": "python",
   "nbconvert_exporter": "python",
   "pygments_lexer": "ipython3",
   "version": "3.10.9"
  }
 },
 "nbformat": 4,
 "nbformat_minor": 5
}
